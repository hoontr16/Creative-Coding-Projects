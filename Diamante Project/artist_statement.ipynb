{
 "cells": [
  {
   "cell_type": "markdown",
   "id": "6c7d7f83-63ff-48c2-b649-1813b493a67a",
   "metadata": {},
   "source": [
    "<h1>Canterbury Tales <i>Redux</h1>\n",
    "<br>\n",
    "<h2>By Hunter Horst</h2>"
   ]
  },
  {
   "cell_type": "markdown",
   "id": "1b914bf7-a484-4b71-ad46-421021865275",
   "metadata": {},
   "source": [
    "<h3>Part 0: Conceptualization</h3>"
   ]
  },
  {
   "cell_type": "markdown",
   "id": "6b870fa4-fcfb-472c-a8ca-a45e7979e1bb",
   "metadata": {},
   "source": [
    "When we first went over this project in class, I immediately thought:\n",
    "<br> \n",
    ">Man, coming up with that many interesting words and inputting them all individually into different lists would be _really_ repetitive.<br>\n",
    ">__How can I automate that?__ <br>\n",
    "\n",
    "I think it's a habit I picked up from other coding classes: good code avoids repeating itself. So, from the beginning, I knew that I wanted to automate the creation of my candidate words."
   ]
  },
  {
   "cell_type": "markdown",
   "id": "6466a989-b483-42dc-b33d-2497186371d6",
   "metadata": {},
   "source": [
    "Both for poetry and general fascination, older English dialects have inteested me for some time now. I like both Middle and Old English, though I can't actually speak or read either, just fragments. That's one reason why I chose to derive my words from the Canterbury Tales. It's a well-studied historical text with plenty of academic coverage, so I figured it would be easy to find a glossary of terms from its text with accompanying definitions and parts of speech (I was correct). Also, I thought it would sound cool."
   ]
  },
  {
   "cell_type": "markdown",
   "id": "11f1d956-506e-4ddc-829f-a0afc77be3b9",
   "metadata": {},
   "source": [
    "I managed to find a website that catalogued Middle English words from the Canterbury Tales alongside their part of speech and a translation: \n",
    "\n",
    "[librarius.com](http://www.librarius.com/gy.htm)\n",
    "\n",
    "Hopefully by the time this gets turned in I've thanked the authors of this website, as this was exactly what I needed."
   ]
  },
  {
   "cell_type": "markdown",
   "id": "cff24434-0b14-4184-a550-94c53da0370a",
   "metadata": {},
   "source": [
    "Originally, I intended to create a way for me to sort through the large glossary, and pick out the best words. That's how I planned to exercise my artistic control over my poetry. That didn't end up happening."
   ]
  },
  {
   "cell_type": "markdown",
   "id": "7ea0fc7e-4a4f-4469-948b-754d61248172",
   "metadata": {},
   "source": [
    "<h3>Part 1: Working with the HTML of English majors</h3>"
   ]
  },
  {
   "cell_type": "markdown",
   "id": "94501e22-7a3d-4993-8590-e0fcd238cd5b",
   "metadata": {},
   "source": [
    "I started with a program that scraped the glossary from the website I found.\n",
    "<br>\n",
    ">Just copying and pasting directly from the site seemed 'hacky' - why do it manually when I can write code to do it for me?\n"
   ]
  },
  {
   "cell_type": "code",
   "execution_count": 1,
   "id": "35250eac-8193-4d07-adb3-54c784d6099f",
   "metadata": {},
   "outputs": [],
   "source": [
    "import requests, json\n",
    "import bs4 #BeautifulSoup\n",
    "import re"
   ]
  },
  {
   "cell_type": "code",
   "execution_count": 2,
   "id": "2a812ec5-3efa-407c-93d5-7a0048ec69da",
   "metadata": {},
   "outputs": [],
   "source": [
    "url = \"http://www.librarius.com/gy.htm\"\n",
    "request = requests.get(url)\n",
    "raw = request.content    #the raw HTML data"
   ]
  },
  {
   "cell_type": "code",
   "execution_count": 3,
   "id": "b6685fce-84ca-4d4c-b6a2-a201b751a08d",
   "metadata": {},
   "outputs": [],
   "source": [
    "soup = bs4.BeautifulSoup(raw, 'html.parser') #a BS4 object that allows searching and retrieval of individual HTML elements"
   ]
  },
  {
   "cell_type": "code",
   "execution_count": 4,
   "id": "14031f8f-94e3-4414-81f6-274cfaddf324",
   "metadata": {},
   "outputs": [],
   "source": [
    "#print(soup)"
   ]
  },
  {
   "cell_type": "markdown",
   "id": "bf5c2636-ae78-48e0-9884-160cd61d05df",
   "metadata": {},
   "source": [
    "However, it turns out that the HTML of this website is formatted rather poorly.\n",
    "<h4>Issues with this website:</h4>\n",
    "\n",
    "1. The first word is in a different type of tag than the others.\n",
    "2. The entire body (after the first element) is in one giant 'p' tag, so each word and its information aren't actually in their own HTML tags.\n",
    "\n",
    "This _kind of_ defeated the purpose of scraping the data in the first place, though I did find a solution:"
   ]
  },
  {
   "cell_type": "code",
   "execution_count": 5,
   "id": "d11b9592-c152-474c-aa89-b37eaaa8c5ad",
   "metadata": {},
   "outputs": [
    {
     "name": "stdout",
     "output_type": "stream",
     "text": [
      "2050\n"
     ]
    }
   ],
   "source": [
    "entries = soup('p', limit=1)    #searches for the first 'p' element\n",
    "text = str(entries)\n",
    "mylist = text.split('\\n')       #since each word is in its own row, this should return every word by itself\n",
    "print(len(mylist))    #theoretically the number of words, but includes some junk\n",
    "#print(text)"
   ]
  },
  {
   "cell_type": "code",
   "execution_count": 6,
   "id": "53022b90-9d10-44e0-abd1-230c516e05de",
   "metadata": {},
   "outputs": [
    {
     "name": "stdout",
     "output_type": "stream",
     "text": [
      "['[<p>', '<a name=\"abegge\"><b>abegge</b> <small><i>verb</i></small> pay for (it)<p>', '<a name=\"abyde\"><b>abid, abyd, abyde</b> <small><i>verb, prsnt.</i></small> remain, await, wait; <b>abood</b> <small><i>verb, pst.</i></small> awaited, remained<p>', '<a name=\"abideth\"><b>abideth, abydeth</b> <small><i>verb</i></small> awaits<p>', '<a name=\"abidyng\"><b>abidyng</b> <small><i>verb</i></small> awaiting<p>', '<a name=\"able\"><b>able</b> <small><i>adj.</i></small> suitable<p>', '<a name=\"abluciouns\"><b>abluciouns</b> <small><i>noun</i></small> cleansings<p>', '<a name=\"abood\"><b>abood</b> <small><i>noun</i></small> delay<p>', '<a name=\"above\"><b>above</b> <small><i>adj.</i></small> superior<p>', '<a name=\"abregge\"><b>abregge</b> <small><i>verb</i></small> abridge, shorten<p>']\n"
     ]
    }
   ],
   "source": [
    "print(mylist[:10])"
   ]
  },
  {
   "cell_type": "markdown",
   "id": "86a31a3b-ebac-4dac-97da-74129d479b61",
   "metadata": {},
   "source": [
    "I still had to retrieve the first word, which I did like this:"
   ]
  },
  {
   "cell_type": "code",
   "execution_count": 7,
   "id": "e3e74a31-8b64-4899-a391-fceaa300e22e",
   "metadata": {},
   "outputs": [],
   "source": [
    "first_entry = soup.find('a', attrs={'name': re.compile('.*')})   #finds the first 'a' tag with a 'name' attribute (containing anything)\n",
    "first_entry = str(first_entry)                                   #this corresponds to the first word, which is not in a 'p' element"
   ]
  },
  {
   "cell_type": "markdown",
   "id": "b96e5e0a-94b5-4244-acf8-bdd03268d929",
   "metadata": {},
   "source": [
    "However, because everything's in one tag, this actually returns a string of the entire glossary."
   ]
  },
  {
   "cell_type": "code",
   "execution_count": 8,
   "id": "0269c16b-daf5-4457-a369-f91ae5ea02e3",
   "metadata": {},
   "outputs": [],
   "source": [
    "#print(first_entry)"
   ]
  },
  {
   "cell_type": "markdown",
   "id": "1e17f7f8-ead0-4804-9f25-f75772483b8d",
   "metadata": {},
   "source": [
    "Looking back, I could have just used this to get my words from. But in the moment, I was too focused on finding the first word, so I kept my previous method, even though it clearly had flaws. That was a small mistake from me."
   ]
  },
  {
   "cell_type": "code",
   "execution_count": 9,
   "id": "685265a5-3882-4e48-b10d-003dc7378003",
   "metadata": {},
   "outputs": [],
   "source": [
    "actual_first = first_entry.split('\\n')[0]   #gets the first row (first word) from the giant 'a' tag"
   ]
  },
  {
   "cell_type": "code",
   "execution_count": 10,
   "id": "98891831-9ca2-4784-816a-c23b6a4fa25e",
   "metadata": {},
   "outputs": [
    {
     "name": "stdout",
     "output_type": "stream",
     "text": [
      "<a name=\"abayst\"><b>abayst</b> embarrassed<p>\n"
     ]
    }
   ],
   "source": [
    "print(actual_first)"
   ]
  },
  {
   "cell_type": "markdown",
   "id": "0d91fb8f-8822-49e1-b8be-d9254ee7c998",
   "metadata": {},
   "source": [
    "Since the first member of mylist is just the start of a tag, I replace it with actual_first:"
   ]
  },
  {
   "cell_type": "code",
   "execution_count": 11,
   "id": "ea144d53-5724-4e5b-acef-724f42ecf15f",
   "metadata": {},
   "outputs": [],
   "source": [
    "mylist[0] = actual_first"
   ]
  },
  {
   "cell_type": "code",
   "execution_count": 12,
   "id": "7d302c1d-0d8a-41c3-b029-dbb688d068cb",
   "metadata": {},
   "outputs": [
    {
     "name": "stdout",
     "output_type": "stream",
     "text": [
      "['<a name=\"abayst\"><b>abayst</b> embarrassed<p>', '<a name=\"abegge\"><b>abegge</b> <small><i>verb</i></small> pay for (it)<p>', '<a name=\"abyde\"><b>abid, abyd, abyde</b> <small><i>verb, prsnt.</i></small> remain, await, wait; <b>abood</b> <small><i>verb, pst.</i></small> awaited, remained<p>', '<a name=\"abideth\"><b>abideth, abydeth</b> <small><i>verb</i></small> awaits<p>', '<a name=\"abidyng\"><b>abidyng</b> <small><i>verb</i></small> awaiting<p>', '<a name=\"able\"><b>able</b> <small><i>adj.</i></small> suitable<p>', '<a name=\"abluciouns\"><b>abluciouns</b> <small><i>noun</i></small> cleansings<p>', '<a name=\"abood\"><b>abood</b> <small><i>noun</i></small> delay<p>', '<a name=\"above\"><b>above</b> <small><i>adj.</i></small> superior<p>', '<a name=\"abregge\"><b>abregge</b> <small><i>verb</i></small> abridge, shorten<p>']\n"
     ]
    }
   ],
   "source": [
    "print(mylist[:10])"
   ]
  },
  {
   "cell_type": "markdown",
   "id": "fee9c339-ffd7-40a9-abd1-e249cfb44116",
   "metadata": {},
   "source": [
    "That's better. And my reward? Getting to work on the hard part.\n",
    "\n",
    "_there were harder parts coming up but I didn't know that yet_"
   ]
  },
  {
   "cell_type": "markdown",
   "id": "adb858d4-6f86-493a-b35a-9df30c891b18",
   "metadata": {},
   "source": [
    "<h3>Part 2: Regex Fun and Custom Classes</h3>"
   ]
  },
  {
   "cell_type": "markdown",
   "id": "f0440b45-7a4c-4e90-8ef5-626aa52cd05d",
   "metadata": {},
   "source": [
    "Now that I had my text, I had to formalize what exactly I wanted from it. Since I can't read Middle English, and neither can my audience, I wanted to provide a translation of the generated poem, and therefore of every word in it. I also needed to keep track of the parts of speech (POS, pos) of each word. I chose an object-oriented approach, partially because I thought it was the best option for associating and accessing multiple attributes, and partially because I knew I would enjoy coding it."
   ]
  },
  {
   "cell_type": "markdown",
   "id": "dbdc2a02-03a8-4456-a986-99effb8d874f",
   "metadata": {},
   "source": [
    "First, I had to turn my giant string from earlier into convenient data. Since each word has relatively consistent formatting (some mistakes and irregularities but that's to be expected), I could use regex. Thanks to regex101.com, I was able to make this pattern:"
   ]
  },
  {
   "cell_type": "code",
   "execution_count": 13,
   "id": "c204b9ed-54ec-428c-9d18-6ccc59ee6f7a",
   "metadata": {},
   "outputs": [],
   "source": [
    "CTpattern = r\"\"\"(?x)\n",
    "(?P<first_form><a(.*)?\\sname=\\\"(?P<name>.+?)\\\"><b>(?P<middle_eng_term1>.*?)</b>\\s?(<small><i>(?P<pos1>.*?)?</i></small>)?(?P<definition1>.*?))[<;]\n",
    "(?P<second_form>\\s<b>(?P<middle_eng_term2>.*?)</b>\\s?(<small><i>(?P<pos2>.*?)?</i></small>)?(?P<definition2>.*?)[<;])?\n",
    "(?P<extra>.*)?\"\"\""
   ]
  },
  {
   "cell_type": "markdown",
   "id": "fe64728a-7438-4607-b449-0060116ad136",
   "metadata": {},
   "source": [
    "Which captures almost every word without issue, and sorts the important information into convenient named groups.\n",
    "\n",
    "IMPORTANT NOTE: I developed this pattern over 30-60 minutes of debugging, which I will document below. I did not start with this, but I don't have the failed patterns to showcase here."
   ]
  },
  {
   "cell_type": "markdown",
   "id": "638d26e5-b59e-469e-bf03-87906cc88b85",
   "metadata": {},
   "source": [
    "Next, I defined my class:"
   ]
  },
  {
   "cell_type": "code",
   "execution_count": 14,
   "id": "2bb554b4-76ce-4549-b55c-b039ca8de247",
   "metadata": {},
   "outputs": [],
   "source": [
    "class Fword:\n",
    "    \"\"\"\n",
    "    Short for 'fancy word'. An object to hold a word and its 'definition' (for whatever reason I thought of the descriptions as definitions instead of translations)\n",
    "\n",
    "    Attributes:\n",
    "        name (str): the word, spelled out\n",
    "        form (str): the first variation of the word\n",
    "        pos (str): the first form's part of speech\n",
    "        deff (str): the word's first definition\n",
    "        form2 (str): the second variation\n",
    "        pos2 (str): the second part of speech\n",
    "        deff2 (str): the second definition\n",
    "        extra (str): anything else not captured by my named groups\n",
    "    \"\"\"\n",
    "    def __init__(self, name, form, pos, definition, form2=None, pos2=None, def2=None, extra=None):\n",
    "        \"\"\"\n",
    "        Initialize an Fword.\n",
    "\n",
    "        Arguments:\n",
    "            just the same as the object's attributes\n",
    "        \"\"\"\n",
    "        self.name = name\n",
    "        self.form = form\n",
    "        self.pos = pos\n",
    "        self.deff = definition\n",
    "        self.form2 = form2\n",
    "        self.pos2 = pos2\n",
    "        self.deff2 = def2\n",
    "        self.extra = extra\n",
    "    def __str__(self):\n",
    "        \"\"\"\n",
    "        Easy-to-read representations.\n",
    "\n",
    "        At one point, this method returned a fancy description, listing out the word and its forms. I wanted it to be clear when an Fword was printed vs. a string.\n",
    "        However, that was annoying to read.\n",
    "\n",
    "        Returns:\n",
    "            str: self.name\n",
    "        \"\"\"\n",
    "        if True:\n",
    "            return self.name\n",
    "        if self.form2:\n",
    "            return f\"fword object of {self.name}, with forms {self.form}, {self.form2}\"\n",
    "        else:\n",
    "            return f\"fword object of {self.name}, with form(s) {self.form}\"\n",
    "    def __repr__(self):\n",
    "        \"\"\"\n",
    "        Slightly less easy-to-read representations.\n",
    "\n",
    "        This was meant to be the shorter version to save space, but after I simplified __str__, it just marks the word as an Fword object.\n",
    "\n",
    "        Returns:\n",
    "            str: the Fword's name, labeled as an Fword object.\n",
    "        \"\"\"\n",
    "        return f\"fwordObject {self.name}\"\n",
    "    def describe(self):\n",
    "        \"\"\"\n",
    "        Provide an Fword's attributes in a nice, human-readable format.\n",
    "\n",
    "        Returns:\n",
    "            str: a formatted string of each labeled attribute\n",
    "        \"\"\"\n",
    "        if self.form2 and self.pos2 and self.def2:\n",
    "            return f\"name: {self.name}, first form: {self.form}, part of speech: {self.pos}, definition: {self.deff}, second form: {self.form2}, part of speech: {self.pos2}, definition: {self.deff2}\"\n",
    "        else:\n",
    "            return f\"name: {self.name}, first form: {self.form}, part of speech: {self.pos}, definition: {self.deff}\"\n",
    "\n",
    "def get_pos(pos, fwords):\n",
    "    \"\"\"\n",
    "    Filter an iterable of Fwords by their parts of speech.\n",
    "\n",
    "    Arguments:\n",
    "        pos (str): the part of speech to filter by\n",
    "        fwords (list, tuple, set, frozenset): the collections of Fword objects to filter\n",
    "\n",
    "    Returns:\n",
    "        list: those Fwords that match the given pos\n",
    "    \"\"\"\n",
    "    selection = []\n",
    "    for word in fwords:\n",
    "        if pos in word.pos or (word.pos2 != None and pos in word.pos2):\n",
    "            selection.append(word)\n",
    "    return selection"
   ]
  },
  {
   "cell_type": "markdown",
   "id": "a171bb55-9288-40af-a9cc-13bbb75fda33",
   "metadata": {},
   "source": [
    "This was actually relatively easy to write, I'm fairly sure that I didn't need to edit this part. This next section definitely did, though: creating the Fword objects, using my regex pattern to locate the necessary information."
   ]
  },
  {
   "cell_type": "code",
   "execution_count": 15,
   "id": "5b2425df-f352-4cf1-ade1-9e32be26fb92",
   "metadata": {},
   "outputs": [
    {
     "name": "stdout",
     "output_type": "stream",
     "text": [
      "2029\n",
      "'NoneType' object is not subscriptable\n"
     ]
    }
   ],
   "source": [
    "defined_words = []\n",
    "x = 0\n",
    "for line in mylist:\n",
    "    raw_word = re.search(CTpattern, line)\n",
    "    try:\n",
    "        word_name = raw_word['name']\n",
    "        form1 = raw_word['middle_eng_term1']\n",
    "        form1_pos = raw_word['pos1']\n",
    "        if form1_pos == None:                #if there was no match for the first form POS\n",
    "            form1_pos = 'other'              #just call it 'other'\n",
    "        form1_def = raw_word['definition1']\n",
    "        try:                                 #since looking up a nonexistent group throws an error, \n",
    "            form2 = raw_word['middle_eng_term2']  #these try-catches use that to determine whether to set\n",
    "            form2_pos = raw_word['pos2']          #the optional second-form attributes and extra data\n",
    "            form2_def = raw_word['definition2']\n",
    "            try:                                  #assume the regex found extra information\n",
    "                extra = raw_word['extra']\n",
    "                word = Fword(word_name, form1, form1_pos, form1_def, form2=form2, pos2=form2_pos, def2=form2_def, extra=extra)\n",
    "            except TypeError as e:                #if it didn't, assume it found a second form, pos and definition\n",
    "                word = Fword(word_name, form1, form1_pos, form1_def, form2=form2, pos2=form2_pos, def2=form2_def)\n",
    "        except TypeError as e:                    #if it didn't (most common outcome), set only the required attributes\n",
    "            word = Fword(word_name, form1, form1_pos, form1_def)\n",
    "        defined_words.append(word)\n",
    "        x += 1\n",
    "    except TypeError as e:   #This both helped me find problem words during debugging,\n",
    "        print(x)             #and cuts off the orphaned endtags (like </p>) in their own lines at the end\n",
    "        print(e)\n",
    "        break"
   ]
  },
  {
   "cell_type": "markdown",
   "id": "7568b6a5-593d-4bf8-8262-347ff277d4ce",
   "metadata": {},
   "source": [
    "Like I said, this took plenty of debugging to work out. Here are some examples of what I checked to see whether it worked:"
   ]
  },
  {
   "cell_type": "code",
   "execution_count": 16,
   "id": "9a28da73-b474-436f-a7db-20db8c6dcb28",
   "metadata": {},
   "outputs": [
    {
     "name": "stdout",
     "output_type": "stream",
     "text": [
      "abayst\n"
     ]
    }
   ],
   "source": [
    "print(defined_words[0])"
   ]
  },
  {
   "cell_type": "code",
   "execution_count": 17,
   "id": "78895b3b-2ee8-48a7-b882-ad4808d6017f",
   "metadata": {},
   "outputs": [
    {
     "data": {
      "text/plain": [
       "fwordObject abyde"
      ]
     },
     "execution_count": 17,
     "metadata": {},
     "output_type": "execute_result"
    }
   ],
   "source": [
    "defined_words[2]"
   ]
  },
  {
   "cell_type": "markdown",
   "id": "a6d60eac-8f16-48b1-986e-094d91ba846c",
   "metadata": {},
   "source": [
    "At this point, I added the try-catch to print where the errors were happening. First, it errored out on word 1282:"
   ]
  },
  {
   "cell_type": "code",
   "execution_count": 18,
   "id": "3f596eef-c564-4b9d-abe6-960549c9fea1",
   "metadata": {},
   "outputs": [
    {
     "data": {
      "text/plain": [
       "'<a \"=\"\" name=\"peyre of tables\"><b>peyre of tables</b> folding set of writing tablets<p>'"
      ]
     },
     "execution_count": 18,
     "metadata": {},
     "output_type": "execute_result"
    }
   ],
   "source": [
    "mylist[1282]"
   ]
  },
  {
   "cell_type": "markdown",
   "id": "e93e0bff-cce2-4534-a758-4cd6a9acbc0d",
   "metadata": {},
   "source": [
    "Because I failed to account for spaces inside of the name or form. After accounting for spaces, it was word 1983:"
   ]
  },
  {
   "cell_type": "code",
   "execution_count": 19,
   "id": "dd5de9d2-2955-4e1a-aa58-6122637ec615",
   "metadata": {},
   "outputs": [
    {
     "data": {
      "text/plain": [
       "'<a name=\"ycleped\"><b>ycleped (cleped)</b> <small><i>verb, pst. sg.</i></small> called<p>'"
      ]
     },
     "execution_count": 19,
     "metadata": {},
     "output_type": "execute_result"
    }
   ],
   "source": [
    "mylist[1983]"
   ]
  },
  {
   "cell_type": "markdown",
   "id": "ba585447-277e-4af1-9c61-16465032f814",
   "metadata": {},
   "source": [
    "Because this word uses parenthesis to mark an alternative spelling, and I was only matching word characters and spaces. After this, I rediscovered the lazy quantifier, which made it much easier: since I knew exactly what came after each name and definition, I could match any character and the lazy quantifier would ensure I only matched what was necessary."
   ]
  },
  {
   "cell_type": "markdown",
   "id": "3237c237-cd02-4686-8548-f3c01d492c6f",
   "metadata": {},
   "source": [
    "Now it errors out on an intended non-match, exiting the for loop with my list of defined words complete and intact.\n",
    "\n",
    "With my words created and readable, I worked on understanding and interpreting them. Since there's 2029 individual words, I decided not to read them all and comb through them for discrepencies. I began with parts of speech and data validation:"
   ]
  },
  {
   "cell_type": "code",
   "execution_count": 20,
   "id": "783720c6-dc4d-4641-b0de-14291880823e",
   "metadata": {},
   "outputs": [
    {
     "data": {
      "text/plain": [
       "1070"
      ]
     },
     "execution_count": 20,
     "metadata": {},
     "output_type": "execute_result"
    }
   ],
   "source": [
    "len(get_pos('noun', defined_words))"
   ]
  },
  {
   "cell_type": "code",
   "execution_count": 21,
   "id": "0adf540f-8381-4caa-817a-df015649dc45",
   "metadata": {},
   "outputs": [],
   "source": [
    "def get_none(fwords):\n",
    "    \"\"\"\n",
    "    Check whether any failed Fword object creations are in a list.\n",
    "\n",
    "    I believe I had a few None objects come up later, so I made this to help check and debug.\n",
    "\n",
    "    Arguments:\n",
    "        fwords (list, tuple, set, frozenset): an iterable of fwords to verify\n",
    "\n",
    "    Side effects:\n",
    "        prints the list element if it raises an error\n",
    "    \"\"\"\n",
    "    for word in fwords:\n",
    "        try:\n",
    "            if 'noun' in word.pos:    #a slightly hacky way of checking if word is a valid Fword object\n",
    "                pass\n",
    "        except TypeError:\n",
    "            print(word)"
   ]
  },
  {
   "cell_type": "code",
   "execution_count": 22,
   "id": "ae5921f0-aeda-4ea6-a0ed-c2809e0ddf72",
   "metadata": {},
   "outputs": [],
   "source": [
    "get_none(defined_words)"
   ]
  },
  {
   "cell_type": "code",
   "execution_count": 23,
   "id": "c1017ed9-11a6-4e98-93b1-80e75745e6b8",
   "metadata": {},
   "outputs": [],
   "source": [
    "def get_possible_pos(fwords):\n",
    "    \"\"\"\n",
    "    Find all unique parts of speech in an iterable of Fwords.\n",
    "\n",
    "    Arguments:\n",
    "        fwords (list, tuple, set, frozenset): an iterable of fwords to search through\n",
    "    \n",
    "    Returns:\n",
    "        list: every unique POS as a string\n",
    "    \"\"\"\n",
    "    posses = []\n",
    "    for word in fwords:\n",
    "        if word.pos not in posses:\n",
    "            posses.append(word.pos)\n",
    "        try:                                           #If a word has a second form\n",
    "            if word.pos2 not in posses and word.pos2:  #check its pos too\n",
    "                posses.append(word.pos2)               \n",
    "        except AttributeError:                         #If not, just carry on\n",
    "            pass\n",
    "    return posses"
   ]
  },
  {
   "cell_type": "code",
   "execution_count": 24,
   "id": "51f83324-7b3c-4c64-aeee-1c36d3e2888c",
   "metadata": {},
   "outputs": [
    {
     "name": "stdout",
     "output_type": "stream",
     "text": [
      "['other', 'verb', 'verb, prsnt.', 'verb, pst.', 'adj.', 'noun', 'prep.', 'verb, prsnt', 'verb, pst. prtcpl.', 'verb, pst. sg.', 'conj.', 'adv.', 'verb, prsnt. sg.', '(Latin)', 'noun, sg.', 'noun, pl.', 'verb, pst. sg', 'verbal noun', 'verb, 3rd prs. sg.', 'adverb', ' noun', 'verb, pst', 'verb, 3rd prs. prsnt.', 'noun sg.', 'verb, prsnt, 3rd prs. sg.', 'adv. ', 'pst.', 'verb, 1st prs. sg. prst', 'verb, 3rd prs. sg. prst.', 'comp.', '', 'verb, 2nd prs. sg. prsnt.', 'verb, 3rd prs. sg. prsnt.', 'verb, pst. ', 'pro.', 'adj. superlative', 'noun &amp; adj.', 'noun, pl', 'adv. superlative', 'verb, prs. prtcpl.', 'num.', 'noun &amp; verb', 'interj.', 'comparative', 'pro. ', 'adj. ', 'verb. pst.', 'verb, verbal noun', 'noun pl.', '(French)', 'adj. &amp; noun', 'verb, 2nd prs. sg.', 'verb, 3rd prs.sg.', 'verb, prtcpl.', 'adv.</i> </small> closely; <small><i>adj.', 'adv. &amp; noun', 'adj', '3rd prs. sg.', 'adv</i>.</small> 1. gently; 2. quietly; <small><i>adj.', 'conj. &amp; prep.', 'demonstr. adj.', 'noun, p.', 'adj. &amp; verb', 'adv', 'pst. prtcpl.', 'verb, pst.pl.', 'verb, 2nd pers. prsnt. sg.', 'verb, 1st &amp; 3rd pers. prsnt. sg.']\n"
     ]
    }
   ],
   "source": [
    "print(get_possible_pos(defined_words))"
   ]
  },
  {
   "cell_type": "markdown",
   "id": "79748bb5-df9c-49fd-9b41-a8a71135608c",
   "metadata": {},
   "source": [
    "Obviously this process has flaws. Some words are actually phrases in other languages, which comes through as a pos; at least one word has an empty string as its pos; ampersands are rendered in an ugly way; and twice, a pos captured information from a second form. I believe this is because those words have different forms with different pos's, but they're spelled the same, so the authors of the website didn't add a second form name which messed up my regex.\n",
    "\n",
    "All things considered, though, it's worked out quite well. I have all the information I need to start making poems, and plenty I don't need.\n",
    "\n",
    "First, though, I made a list of all the words with 'weird' pos's:"
   ]
  },
  {
   "cell_type": "code",
   "execution_count": 25,
   "id": "a10ca4de-2fbb-4d3e-95da-713130c8a50c",
   "metadata": {},
   "outputs": [
    {
     "name": "stdout",
     "output_type": "stream",
     "text": [
      "name: adoun, first form: adoun, part of speech: prep., definition:  below\n",
      "name: after-mete, first form: after-mete, part of speech: prep., definition:  the time after diner\n",
      "name: agast, first form: agast, part of speech: verb, pst. prtcpl., definition:  frightened\n",
      "name: amended, first form: amended, part of speech: verb, pst. prtcpl., definition:  improved, corrected\n",
      "name: amor vincit omnia, first form: Amor vincit omnia, part of speech: (Latin), definition:  Love conquers all\n",
      "name: arrayed, first form: arrayed, part of speech: verb, pst. prtcpl., definition:  prepared, adorned\n",
      "name: at erst, first form: at erst, part of speech: prep., definition:  for the first time\n",
      "name: avauntyng, first form: avauntyng, part of speech: verbal noun, definition:  boasting\n",
      "name: ave marie, first form: Ave Marie, part of speech: (Latin), definition:  Hail Mary (first words of a Latin prayer)\n",
      "name: berkyng, first form: berkyng, part of speech: verbal noun, definition:  barking\n",
      "name: bitwix, first form: bitwix, bitwixe, bitwixen, bitwyxen, part of speech: prep., definition:  between\n",
      "name: chidyng, first form: chidyng, part of speech: verbal noun, definition:  scolding\n",
      "name: clad, first form: clad, part of speech: verb, pst. prtcpl., definition:  clothed\n",
      "name: cleped, first form: cleped (ycleped), part of speech: pst., definition:  called\n",
      "name: conseillyng, first form: conseillyng, part of speech: verbal noun, definition:  advice\n",
      "name: depeint, first form: depeint, part of speech: verb, pst. prtcpl., definition:  stained\n",
      "name: depeynted, first form: depeynted, part of speech: verb, pst. prtcpl., definition:  painted\n",
      "name: depper, first form: depper, part of speech: comp., definition:  more deeply\n",
      "name: diffame, first form: diffame, part of speech: , definition:  bad reputation\n",
      "name: ech, first form: ech, part of speech: pro., definition:  each (one)\n",
      "name: echon, first form: echon, part of speech: pro., definition:  each one\n",
      "name: encombred, first form: encombred, part of speech: verb, pst. prtcpl., definition:  1. stuck\n",
      "name: eschawfed, first form: eschawfed, part of speech: verb, pst. prtcpl., definition:  heated\n",
      "name: eschawfyne, first form: eschawfyne, part of speech: verbal noun, definition:  heating\n",
      "name: everichon, first form: everichon, everichoon, everychon, part of speech: pro., definition:  everyone\n",
      "name: fletynge, first form: fletynge, part of speech: verb, prs. prtcpl., definition:  floating\n",
      "name: floytynge, first form: floytynge, part of speech: verb, prs. prtcpl., definition:  whistling\n",
      "name: fyve, first form: fyve, part of speech: num., definition:  five\n",
      "name: galpyng, first form: galpyng, part of speech: verbal noun, definition:  yawning\n",
      "name: gretter, first form: gretter, part of speech: comparative, definition:  larger\n",
      "name: grucchyng, first form: grucchyng, gruchchyng, part of speech: verbal noun, definition:  complaining\n",
      "name: hem, first form: hem, part of speech: pro. , definition:  them\n",
      "name: herknynge, first form: herknynge, part of speech: verb, verbal noun, definition:  listening\n",
      "name: ik, first form: ik, part of speech: pro., definition:  I\n",
      "name: janglerie, first form: janglerie, part of speech: verbal noun, definition:  chatter\n",
      "name: je vous dy, first form: je vous dy, part of speech: (French), definition:  I tell you\n",
      "name: kembd, first form: kembd (ykembd), part of speech: verb, pst. prtcpl., definition:  combed\n",
      "name: kithed, first form: kithed, part of speech: verb, pst. prtcpl., definition:  shown\n",
      "name: levere, first form: levere, part of speech: comp., definition:  rather\n",
      "name: maugree, first form: maugree, part of speech: prep., definition:  despite\n",
      "name: mordrynge, first form: mordrynge, part of speech: verbal noun, definition:  murdering\n",
      "name: mowled, first form: mowled, part of speech: verb, prtcpl., definition:  molded\n",
      "name: murmur, first form: murmur, part of speech: verbal noun, definition:  grumbling\n",
      "name: mysboden, first form: mysboden, part of speech: verb, pst. prtcpl., definition:  injured\n",
      "name: narwe, first form: narwe, part of speech: adv.</i> </small> closely; <small><i>adj., definition:  narrow, small\n",
      "name: noon, first form: noon, part of speech: pro., definition:  none\n",
      "name: ny, first form: ny, part of speech: prep., definition:  close\n",
      "name: offended, first form: offended, part of speech: verb, pst. prtcpl., definition:  1. injured, 2. insulted\n",
      "name: oon, first form: oon, part of speech: num., definition:  one\n",
      "name: prechyng, first form: prechyng, part of speech: verbal noun, definition:  preaching\n",
      "name: prikyng, first form: prikyng, part of speech: verbal noun, definition:  tracking\n",
      "name: questio quid iuris, first form: Questio quid iuris, part of speech: (Latin), definition:  The question is, what law applies\n",
      "name: radix malorum, first form: Radix malorum est Cupiditas, part of speech: (Latin), definition:  Greed is the root of all evil\n",
      "name: rownynge, first form: rownynge, part of speech: verb, pst. prtcpl., definition:  whispering\n",
      "name: rowtyng, first form: rowtyng, part of speech: verbal noun, definition:  snoring\n",
      "name: saluyng, first form: saluyng, part of speech: verbal noun, definition:  greeting\n",
      "name: save, first form: save, part of speech: prep., definition:  except (that)\n",
      "name: softe, first form: softe, part of speech: adv</i>.</small> 1. gently; 2. quietly; <small><i>adj., definition:  1. gentle\n",
      "name: sother, first form: sother, part of speech: comp., definition:  truer\n",
      "name: squaymous, first form: squaymous, part of speech: , definition: sqeamish, easily nauseated or disgusted\n",
      "name: stryvyng, first form: stryvyng, part of speech: verbal noun, definition:  strife, quarrelling\n",
      "name: sublymyng, first form: sublymyng, part of speech: verbal noun, definition:  sublimating, purifying\n",
      "name: swayn, first form: swayn, part of speech: , definition: young gentleman\n",
      "name: swich, first form: swich, part of speech: pro., definition:  such\n",
      "name: syn, first form: syn, part of speech: conj. &amp; prep., definition:  since\n",
      "name: te deum, first form: Te Deum, part of speech: (Latin), definition:  To you O God\n",
      "name: thilke, first form: thilke, part of speech: demonstr. adj., definition:  that (same)\n",
      "name: thre, first form: thre, part of speech: num., definition:  three\n",
      "name: thridde, first form: thridde, part of speech: num., definition:  third\n",
      "name: thurgh, first form: thurgh, part of speech: prep., definition:  1. through\n",
      "name: tombesteres, first form: tombesteres, part of speech: noun, p., definition:  dancing girls\n",
      "name: toon, first form: toon, part of speech: , definition:  toes\n",
      "name: travaillynge, first form: travaillynge, part of speech: verbal noun, definition:  in labor\n",
      "name: tweye, first form: tweye, part of speech: num., definition:  two\n",
      "name: unyolden, first form: unyolden, part of speech: verbal noun, definition:  unyielding\n",
      "name: venerie, first form: venerie, part of speech: verbal noun, definition:  hunting\n",
      "name: wist, first form: wist, part of speech: pst. prtcpl., definition:  known\n",
      "name: wrastlynge, first form: wrestling, part of speech: verbal noun, definition:  wrestling\n",
      "name: ybete, first form: ybete, part of speech: verb, pst. prtcpl., definition:  embroidered\n",
      "name: yiven, first form: yiven, part of speech: verb, pst. prtcpl., definition:  given\n"
     ]
    }
   ],
   "source": [
    "for i in defined_words:\n",
    "    for j in ('(', 'comp.', 'pro.', 'num.', 'verbal noun', 'prtcpl.', '<', 'comparative', 'demonstr.', 'p.'):\n",
    "        if  i.pos == 'pst.' or not i.pos or j in i.pos:\n",
    "            print(i.describe())\n",
    "            break"
   ]
  },
  {
   "cell_type": "code",
   "execution_count": 26,
   "id": "22b8b89e-8034-43b9-ad81-4e0638ff3754",
   "metadata": {},
   "outputs": [
    {
     "name": "stdout",
     "output_type": "stream",
     "text": [
      "1070\n"
     ]
    }
   ],
   "source": [
    "nouns = get_pos('noun', defined_words)\n",
    "print(len(nouns))"
   ]
  },
  {
   "cell_type": "code",
   "execution_count": 27,
   "id": "cd3225fa-45cd-4f65-817c-233692cc3074",
   "metadata": {},
   "outputs": [
    {
     "name": "stdout",
     "output_type": "stream",
     "text": [
      "name: abluciouns, first form: abluciouns, part of speech: noun, definition:  cleansings\n",
      "name: abood, first form: abood, part of speech: noun, definition:  delay\n",
      "name: accidie, first form: accidie, part of speech: noun, definition:  sloth, laziness\n",
      "name: accord, first form: accord, acord, part of speech: noun, definition:  agreement\n",
      "name: achatours, first form: achatours, part of speech: noun, definition:  buyers\n",
      "name: affiance, first form: affiance, part of speech: noun, definition:  trust\n",
      "name: agu, first form: agu, part of speech: noun, definition:  acute fever\n",
      "name: aiel, first form: aiel, part of speech: noun, definition:  grandfather \n",
      "name: aketoun, first form: aketoun, part of speech: noun, definition:  wadded jacket worn under the chain-mail coat\n",
      "name: alauntz, first form: alauntz, part of speech: noun, definition:  wolfhounds\n"
     ]
    }
   ],
   "source": [
    "for noun in nouns[:10]:\n",
    "    print(noun.describe())"
   ]
  },
  {
   "cell_type": "markdown",
   "id": "2aa2cfc8-94e8-47ff-80d7-7dd70de07710",
   "metadata": {},
   "source": [
    "Thus concluded my regex party."
   ]
  },
  {
   "cell_type": "markdown",
   "id": "f0ae8569-0836-4233-a373-e9e4bb334a2e",
   "metadata": {},
   "source": [
    "<h3>Part 3: Display</h3>"
   ]
  },
  {
   "cell_type": "markdown",
   "id": "76712e71-1ad5-4f7e-9fc9-8d1492048825",
   "metadata": {},
   "source": [
    "Some bad news: I made many edits to this code, over the day I initially wrote it and otherwise, and absolutely did not document most of them. That means i won't be able to provide as detailed a recounting of my coding from here on as I have so far.\n",
    "\n",
    "Good news: I did actually document some of my thoughts in the moment, so I will be able to cover some things.\n",
    "\n",
    "More good news: That means this section is less about my coding decisions, and more about my creative ones.\n",
    "\n",
    "First, I will reproduce my pre-coding notes from September 26, the day I wrote most of this code, in full:"
   ]
  },
  {
   "cell_type": "markdown",
   "id": "977bc129-e4b1-4883-b765-d48ba0aef201",
   "metadata": {},
   "source": [
    "9/26\n",
    "<h1>What I want:</h1>\n",
    "a fast method for selecting good words/phrases that's also repeatable  \n",
    "<h1>How to accomplish that:</h1>\n",
    "\n",
    "1. A function that displays a word and its info, one at a time, and I hit a button to save it or reject it\n",
    "2. Literally completely at random\n",
    "<h2>Option 1</h2>\n",
    "\n",
    "- hit 1 for save, 2 for reject\n",
    "- should save my choices when reloading jupyter\n",
    "- much harder to implement\n",
    "- more artistic control/input\n",
    "\n",
    "<h2>Option 2</h2>\n",
    "\n",
    "- very easy to implement\n",
    "- little to no control\n",
    "- may be harder to select phrases for fourth line\n",
    "\n",
    "First: just write Option 2, just in case Option 1 takes too long"
   ]
  },
  {
   "cell_type": "markdown",
   "id": "2238b324-a985-49b1-b9f3-50d0539b29b9",
   "metadata": {},
   "source": [
    "As we can see, I still thought I would be curating the words, but decided to write the 'easy' option first. This was a good decision.\n",
    "\n",
    "From here, I created variables to hold the words for each pos I needed, before getting once again into hardcore OOP:"
   ]
  },
  {
   "cell_type": "code",
   "execution_count": 28,
   "id": "6bfd2a33-bd7f-447c-a70a-57e9877c0a25",
   "metadata": {},
   "outputs": [],
   "source": [
    "nouns = get_pos('noun', defined_words)\n",
    "adjectives = get_pos('adj.', defined_words)\n",
    "participles = get_pos('prtcpl.', defined_words) + get_pos('verbal noun', defined_words)"
   ]
  },
  {
   "cell_type": "markdown",
   "id": "760c7202-4e0a-4d36-8f02-4fe11ea7085f",
   "metadata": {},
   "source": [
    "I included 'verbal nouns' with participles because there were only 20-ish regular participles, and most of the verbal noun translations ended in '-ing' anyway. I believe this was a good choice: I like the variety."
   ]
  },
  {
   "cell_type": "code",
   "execution_count": 29,
   "id": "7392d095-a27c-4e88-9943-cb3332a12056",
   "metadata": {},
   "outputs": [
    {
     "name": "stdout",
     "output_type": "stream",
     "text": [
      "238 40\n"
     ]
    }
   ],
   "source": [
    "print(len(adjectives), len(participles))"
   ]
  },
  {
   "cell_type": "code",
   "execution_count": 30,
   "id": "a68b3d8b-bddb-4326-8e3f-2f6fd4cb54f5",
   "metadata": {},
   "outputs": [
    {
     "name": "stdout",
     "output_type": "stream",
     "text": [
      "[fwordObject agast, fwordObject amended, fwordObject arrayed, fwordObject clad, fwordObject depeint, fwordObject depeynted, fwordObject encombred, fwordObject eschawfed, fwordObject fletynge, fwordObject floytynge, fwordObject kembd, fwordObject kithed, fwordObject mowled, fwordObject mysboden, fwordObject offended, fwordObject rownynge, fwordObject wist, fwordObject ybete, fwordObject yiven, fwordObject avauntyng, fwordObject berkyng, fwordObject chidyng, fwordObject conseillyng, fwordObject eschawfyne, fwordObject galpyng, fwordObject grucchyng, fwordObject herknynge, fwordObject janglerie, fwordObject mordrynge, fwordObject murmur, fwordObject prechyng, fwordObject prikyng, fwordObject rowtyng, fwordObject saluyng, fwordObject stryvyng, fwordObject sublymyng, fwordObject travaillynge, fwordObject unyolden, fwordObject venerie, fwordObject wrastlynge]\n"
     ]
    }
   ],
   "source": [
    "print(participles)"
   ]
  },
  {
   "cell_type": "code",
   "execution_count": 31,
   "id": "7cb5a1e5-a856-41a8-8752-0171974fb254",
   "metadata": {},
   "outputs": [],
   "source": [
    "from random import choice, choices, randint, sample\n",
    "import os\n",
    "import time\n",
    "import IPython\n",
    "import IPython.display\n",
    "from IPython.display import HTML\n",
    "import json\n",
    "import base64"
   ]
  },
  {
   "cell_type": "code",
   "execution_count": 32,
   "id": "63931646-e70e-4379-bb40-3898dc71b1dd",
   "metadata": {},
   "outputs": [],
   "source": [
    "class Diamante:\n",
    "    \"\"\"\n",
    "    An object that creates a poem from given sets of words and randomness.\n",
    "\n",
    "    Attributes:\n",
    "        topic1, topic2 (Fword): the two topic words of this diamante poem, in order\n",
    "        adj1, adj2, adj3, adj4 (Fword): the four adjectives of this diamante poem, in order\n",
    "        p1, p2, p3, p4, p5, p6 (Fword): the six participles of this diamante poem, in order\n",
    "        template1, template2 (str): a string, meant to work with str.format(), representing the two possible formats for the middle line\n",
    "            a line using template1: \"[noun1] & [noun2], [noun3] & [noun4]\"\n",
    "            a line using template2: \"[adjective1] [noun1] and [adjective2] [noun2]\"\n",
    "        phrasenouns (list): four random noun Fword objects. At least two will always get used\n",
    "        phraseadjs (list): two random adjective Fword objects. Depending on the template, may or may not get used\n",
    "        phrase1 (str): the first half of the middle line, inserting the proper phrase words into the randomly chosen template\n",
    "        phrase2 (str): the second half of the middle line, inserting the proper phrase words into the randomly chosen template\n",
    "        phrase (str): the entire middle line, connecting the two halves differently depending on the template\n",
    "        phrase_def (str): the translated phrase\n",
    "    \"\"\"\n",
    "    def __init__(self, words, nouns, adjs, prtcpls):\n",
    "        \"\"\"\n",
    "        Initialize a Diamante poem/object.\n",
    "\n",
    "        Arguments:\n",
    "            words (iter): can be any iter, but I use a list. apparently serves no purpose.\n",
    "            nouns (iter): ''. The pool of nouns to choose from\n",
    "            adjs (iter): ''. The pool of adjectives to choose from\n",
    "            prtcpls (iter): ''. The pool of participles to choose from\n",
    "\n",
    "        Side effects:\n",
    "            sets attributes\n",
    "        \"\"\"\n",
    "        self.topic1, self.topic2 = choices(nouns, k=2)\n",
    "        self.adj1, self.adj2, self.adj3, self.adj4 = choices(adjs, k=4)\n",
    "        self.p1, self.p2, self.p3, self.p4, self.p5, self.p6 = choices(prtcpls, k=6)\n",
    "        self.template1 = \"{0} & {1}\"\n",
    "        self.template2 = \"{0} {1}\" #adj + noun (repeated)\n",
    "        self.phrasenouns = choices(nouns, k=4)\n",
    "        self.phraseadjs = choices(adjs, k=2)\n",
    "        if not randint(0, 1):\n",
    "            self.phrase1 = self.template1.format(*self.phrasenouns[:2])\n",
    "            self.phrase2 = self.template1.format(*self.phrasenouns[2:])\n",
    "            self.phrase = f'{self.phrase1}, {self.phrase2}'\n",
    "            self.phrase_def = f'[{self.phrasenouns[0].deff}] & [{self.phrasenouns[1].deff}], [{self.phrasenouns[2].deff}] & [{self.phrasenouns[3].deff}]'\n",
    "        else:\n",
    "            self.phrase1 = self.template2.format(self.phraseadjs[0], self.phrasenouns[0])\n",
    "            self.phrase2 = self.template2.format(self.phraseadjs[1], self.phrasenouns[1])\n",
    "            self.phrase = f'{self.phrase1} and {self.phrase2}'\n",
    "            self.phrase_def = f'[{self.phraseadjs[0].deff}] [{self.phrasenouns[0].deff}] and [{self.phraseadjs[1].deff}] [{self.phrasenouns[1].deff}]'\n",
    "    \n",
    "    def makePoem(self):\n",
    "        \"\"\"\n",
    "        Print the generated poem and initiate saving.\n",
    "\n",
    "        Side effects:\n",
    "            prints each line of the poem in a pretty format.\n",
    "            asks the user whether they want to save this poem, and saves it if they do\n",
    "        \"\"\"\n",
    "        print()\n",
    "        display(HTML(f'<center><font face=\"Canterbury\" size=\"4\"> {self.topic1.name} </font></center>'))\n",
    "        display(HTML(f'<center><font face=\"garamond\" size=\"4\"> {self.adj1.name}  and {self.adj2.name}</font></center>'))\n",
    "        display(HTML(f'<center><font face=\"garamond\" size=\"4\"> {self.p1.name}, {self.p2.name}, {self.p3.name}</font></center>'))\n",
    "        display(HTML(f'<center><font face=\"garamond\" size=\"4\">{self.phrase}</font></center>'))\n",
    "        display(HTML(f'<center><font face=\"garamond\" size=\"4\"> {self.p4.name}, {self.p5.name}, {self.p6.name}</font></center>'))\n",
    "        display(HTML(f'<center><font face=\"garamond\" size=\"4\"> {self.adj3.name}  and {self.adj4.name}</font></center>'))\n",
    "        display(HTML(f'<center><font face=\"garamond\" size=\"4\"> {self.topic2.name} </font></center>'))\n",
    "        print()\n",
    "        display(HTML(f'<center><font face=\"garamond\" size=\"4\"> [{self.topic1.deff}] </font></center>'))\n",
    "        display(HTML(f'<center><font face=\"garamond\" size=\"4\"> [{self.adj1.deff}]  and [{self.adj2.deff}]</font></center>'))\n",
    "        display(HTML(f'<center><font face=\"garamond\" size=\"4\"> [{self.p1.deff}], [{self.p2.deff}], [{self.p3.deff}]</font></center>'))\n",
    "        display(HTML(f'<center><font face=\"garamond\" size=\"4\">{self.phrase_def}</font></center>'))\n",
    "        display(HTML(f'<center><font face=\"garamond\" size=\"4\"> [{self.p4.deff}], [{self.p5.deff}], [{self.p6.deff}]</font></center>'))\n",
    "        display(HTML(f'<center><font face=\"garamond\" size=\"4\"> [{self.adj3.deff}]  and [{self.adj4.deff}]</font></center>'))\n",
    "        display(HTML(f'<center><font face=\"garamond\" size=\"4\"> [{self.topic2.deff}] </font></center>'))\n",
    "        print()\n",
    "        if input(\"Do you want to save this poem?\").lower() in ('y', 'yes'):\n",
    "            save(self)          # This will be covered later"
   ]
  },
  {
   "cell_type": "markdown",
   "id": "a63e52f2-9d2b-4832-afa7-b77317fe398e",
   "metadata": {},
   "source": [
    "I copied the display section directly from the assignment file, as I did not want to learn a new Python module just for this project.\n",
    "\n",
    "_that did not work out_\n",
    "\n",
    "I surrounded each word's translation in square brackets, to make it clear what was being translated.\n",
    "\n",
    "In this version, I selected the words using the choices() function, which __includes__ replacement. I wrote an otherwise identical version that uses sample() instead, which is __without__ replacement. I ended up preferring that version better, so in my final version I use sample().\n",
    "\n",
    "As for the poem's middle line, I took both formats from the original Markdown file. Template 2 is what's used in the code, and the example poem at the top of the file uses template 1."
   ]
  },
  {
   "cell_type": "code",
   "execution_count": 33,
   "id": "ee1c3411-dab2-4821-95d0-1e08cd973aca",
   "metadata": {},
   "outputs": [],
   "source": [
    "choicePoem = Diamante(defined_words, nouns, adjectives, participles)"
   ]
  },
  {
   "cell_type": "code",
   "execution_count": 34,
   "id": "b8cfe8a3-d02c-44b7-9c45-866900a69fd5",
   "metadata": {},
   "outputs": [],
   "source": [
    "#choicePoem.makePoem()"
   ]
  },
  {
   "cell_type": "markdown",
   "id": "1b24bcc5-c664-4be6-a688-b3710d0f8cd1",
   "metadata": {},
   "source": [
    "And this was my first working version. Honestly, it works quite well.\n",
    "\n",
    "<h3><i>However</i></h3>\n",
    "\n",
    "After a few generations, I noticed repeating words within a poem. Now, repetition can be a good thing in poetry, it heightens the impact of whatever is repeated, but here it felt sloppy. Since the participle pool is considerably smaller than the available nouns and adjectives, and they're closer to each other than the other lines, I decided to change the code. I wrote a second version that uses random.sample() instead of random.choices(), which means that each chosen word must be unique. However, this does __not__ entirely eliminate repetition: since the words for the middle line are chosen separately from the rest of the poem, the middle line could contain one of the poem's topic nouns, or a repeated adjective. It does prevent the repetition of participles, which was by far the most common source of repetition, so I considered that good enough. I won't include it here just to save space, and the only differences made it into the final version anyway.\n",
    "\n",
    "And that actually wraps up Part 3! That's how I actually created and displayed the poems, using the custom word objects from my web scraping.\n",
    "\n",
    "_But this is not the end_\n",
    "\n",
    "Now that the program worked, I couldn't help but think of additional features to add. I ended up implementing two, but those two took me about as long as all the previous code to correctly implement.\n",
    "\n",
    "<h3>Part 4: \"Extra Features\"</h3>\n",
    "\n",
    "After generating my first poem, I discovered a problem: since creating a new Diamante object generates new random words to use, there's no way to preserve any specific poem when reloading the notebook. While I could just copy and paste, that doesn't preserve the fonts or formatting, and would be awkward to paste directly into Markdown. So, I needed a way to save the poems my program generates, and load them back into Notebook when necessary. This is why I haven't shown any example poems yet.\n",
    "\n",
    "<h4>Saving and Loading</h4>\n",
    "\n",
    "Luckily for me, I already developed a custom saving and loading system for a previous personal project of mine (implementing Monopoly in Python). I was able to use the basic code from that project for this program, though I spent significant time relearning JSON manipulation.\n",
    "\n",
    "Essentially, I turn Fword objects into dictionary-like JSON objects, with their attributes as values and the attribute's names as keys. Then I transform the Diamante object into another dictionary of attributes, but since its attributes are themselves custom Fword objects, it becomes a dictionary of labeled tuples containing JSON representations of its Fword objects, which is then saved to a JSON file. Then, to load these objects, I turn each JSON object (the overall Diamante object and the individual Fwords) into a Python dictionary, and generate Fword objects using their dictionary's keys as arguments. Then, I create a new Diamante object and manually set its attributes to the newly-created Fword objects."
   ]
  },
  {
   "cell_type": "code",
   "execution_count": 35,
   "id": "9d09253f-7ec8-4863-8a67-e35b07e6be2c",
   "metadata": {},
   "outputs": [],
   "source": [
    "import json"
   ]
  },
  {
   "cell_type": "code",
   "execution_count": 36,
   "id": "40b37b72-1b0b-4db3-b709-2447c7910285",
   "metadata": {},
   "outputs": [],
   "source": [
    "class PoemEncoder(json.JSONEncoder):\n",
    "    \"\"\" An encoder for Diamante poems (objects).\n",
    "    \"\"\"\n",
    "    def default(self, obj):\n",
    "        \"\"\" Encode a Diamante poem.\n",
    "        \n",
    "        Arguments:\n",
    "            obj (Diamante): the poem to encode\n",
    "            \n",
    "        Returns:\n",
    "            dict: the Diamante object's attributes, as a dictionary\n",
    "            if obj is not a Diamante, return the default method of the parent class\n",
    "        \"\"\"\n",
    "        if isinstance(obj, DiamanteFinal):\n",
    "            return {'topics': (obj.topic1, obj.topic2),\n",
    "                    'adjectives': (obj.adj1, obj.adj2, obj.adj3, obj.adj4),\n",
    "                    'participles': (obj.p1, obj.p2, obj.p3, obj.p4, obj.p5, obj.p6),\n",
    "                    'phrase': (obj.phrase),\n",
    "                    'phrase definition': (obj.phrase_def)\n",
    "                    }\n",
    "        return json.JSONEncoder.default(self, obj)\n",
    "\n",
    "class FwordEncoder(json.JSONEncoder):\n",
    "    \"\"\" An encoder for Fword (objects).\n",
    "    \"\"\"\n",
    "    def default(self, obj):\n",
    "        \"\"\" Encode an Fword object.\n",
    "        \n",
    "        Arguments:\n",
    "            obj (Fword): the word to encode\n",
    "            \n",
    "        Returns:\n",
    "            dict: the Fword object's attributes, as a dictionary\n",
    "            if obj is not an Fword, return the default method of the parent class\n",
    "        \"\"\"\n",
    "        if isinstance(obj, Fword):\n",
    "            return {'name': obj.name,\n",
    "                    'form': obj.form,\n",
    "                    'part of speech': obj.pos,\n",
    "                    'definition': obj.deff\n",
    "                    }\n",
    "        return json.JSONEncoder.default(self, obj)\n",
    "\n",
    "def save(poem, path='goodPoem'):\n",
    "    with open(f'{path}.json', 'w', encoding='utf-8') as f:\n",
    "        newattrs = [json.dumps(word, indent=2, cls=FwordEncoder) for word in (poem.topic1, poem.topic2, poem.adj1, poem.adj2, poem.adj3, poem.adj4, poem.p1, poem.p2, poem.p3, poem.p4, poem.p5, poem.p6)]\n",
    "        #newattrs.append(poem.phrase, poem.phrase_def)\n",
    "        poem.topic1, poem.topic2, poem.adj1, poem.adj2, poem.adj3, poem.adj4, poem.p1, poem.p2, poem.p3, poem.p4, poem.p5, poem.p6 = newattrs\n",
    "        json.dump(poem, f, indent=2, cls=PoemEncoder)\n",
    "\n",
    "def loadFword(word):\n",
    "    #print(word)\n",
    "    #print(type(word))\n",
    "    return Fword(word['name'], word['form'], word['part of speech'], word['definition'])\n",
    "\n",
    "def load(path, *args, **kwargs):\n",
    "    with open(path, 'r', encoding='utf-8') as f:\n",
    "        poemInfo = json.load(f)\n",
    "    newPoem = DiamanteFinal(*args)\n",
    "    newTopics, newAdjs, newPs = [], [], []\n",
    "    newPoem.topic1, newPoem.topic2 = [loadFword(json.loads(topic)) for topic in poemInfo['topics']]\n",
    "    newPoem.adj1, newPoem.adj2, newPoem.adj3, newPoem.adj4 = [loadFword(json.loads(adj)) for adj in poemInfo['adjectives']]\n",
    "    newPoem.p1, newPoem.p2, newPoem.p3, newPoem.p4, newPoem.p5, newPoem.p6 = [loadFword(json.loads(p)) for p in poemInfo['participles']]\n",
    "    newPoem.phrase = poemInfo['phrase']\n",
    "    newPoem.phrase_def = poemInfo['phrase definition']\n",
    "    return newPoem"
   ]
  },
  {
   "cell_type": "markdown",
   "id": "9dc255a8-2340-48d9-99f7-273c92c4f088",
   "metadata": {},
   "source": [
    "This is how you load a poem:"
   ]
  },
  {
   "cell_type": "code",
   "execution_count": 37,
   "id": "16498388-bc68-4d4a-858f-fe4667b7de5a",
   "metadata": {},
   "outputs": [],
   "source": [
    "#load('goodPoem.json', defined_words, nouns, adjectives, participles)"
   ]
  },
  {
   "cell_type": "markdown",
   "id": "4677b4b1-6f8c-4b16-9756-f0c0933b1d3f",
   "metadata": {},
   "source": [
    "I had to comment this out because the current saving and loading functions/classes use the final version of my objects, which I haven't yet inlcuded in this notebook."
   ]
  },
  {
   "cell_type": "markdown",
   "id": "1aa7301e-0f7d-4799-8682-2d275c14953b",
   "metadata": {},
   "source": [
    "<h4>Using a Custom Font</h4>\n",
    "\n",
    "_Wouldn't it be cool to render the Middle English version of the poem in an old-timey font?_\n",
    "\n",
    "This is what took up most of my time for this section.\n",
    "\n",
    "In short, I tried to manipulate iPython.display() into loading a non-web-safe font I downloaded, which is difficult when I started out not knowing anything about the module.\n",
    "\n",
    "This is the only part of my program I actively documented while writing it, so I'll just include my different notes and attempts below. This file is already far too long.\n",
    "\n",
    "Note: I was using Wingdings during testing as it was easily recognizable, so I could tell whether my code was doing anything"
   ]
  },
  {
   "cell_type": "code",
   "execution_count": 38,
   "id": "35a40649-6765-47be-8a94-de78c7484b91",
   "metadata": {},
   "outputs": [],
   "source": [
    "#mycss = \"\"\"\n",
    "#@font-face: {font-family: Canterbury; src: url('Canterbury.ttf');\n",
    "#}\n",
    "#center {\n",
    "#font-family: Canterbury, Wingdings\n",
    "#}\n",
    "#\"\"\""
   ]
  },
  {
   "cell_type": "markdown",
   "id": "1f8c0b05-d015-4279-9e03-334594c5e1ac",
   "metadata": {},
   "source": [
    "^^^The above cell^^^\n",
    "\n",
    "Had to be commented out because it affects all cells in all files, and since I wrote an improved version lower down (with some help from ChatGPT), it overrides that cell. However, I want to keep the old cell around for documentation's sake"
   ]
  },
  {
   "cell_type": "markdown",
   "id": "a7a9cb25-e863-4bd3-b913-252f911f9fa8",
   "metadata": {},
   "source": [
    "<style>\n",
    "    @font-face: {font-family: Canterbury; src: url('Canterbury.ttf');\n",
    "                }\n",
    "    center {\n",
    "        font-family: Canterbury\n",
    "            }\n",
    "</style>\n",
    "<center>hello</center>\n",
    "<center><font face='Canterbury' size='4'>hello</font></center>"
   ]
  },
  {
   "cell_type": "markdown",
   "id": "c2ac0e2a-b577-44a5-b2a2-10c2e5928920",
   "metadata": {},
   "source": [
    "<center>hello</center>\n",
    "<center><font face='Canterbury' size='4'>hello</font></center>"
   ]
  },
  {
   "cell_type": "markdown",
   "id": "8fc5c931-9a22-4923-a4ae-a5985252535d",
   "metadata": {},
   "source": [
    "NOTE: Originally the previous text was not in the custom font, and I spent hours trying to get it to work. Eventually I asked ChatGPT for help, and put its results into a separate ipynb file to test. Not only did the code work, but it immediately changed the text in this file to the correct font. Also, I don't actually have to add the style to the display(HTML()) call, I just create a variable that stores my desired CSS in a string, and Notebook automatically applies it to all cells in all tabs. Very strange"
   ]
  },
  {
   "cell_type": "code",
   "execution_count": 39,
   "id": "25235d7a-f41f-4b19-b2dc-8365078336b4",
   "metadata": {},
   "outputs": [],
   "source": [
    "import base64"
   ]
  },
  {
   "cell_type": "code",
   "execution_count": 40,
   "id": "8415e65c-5854-4dbd-b928-6d4069b8795a",
   "metadata": {},
   "outputs": [],
   "source": [
    "font_path = 'Canterbury.ttf'\n",
    "with open(font_path, 'rb') as font_file:\n",
    "    font_data = font_file.read()\n",
    "    encoded_font = base64.b64encode(font_data).decode('utf-8')"
   ]
  },
  {
   "cell_type": "code",
   "execution_count": 41,
   "id": "efff86f0-d0a1-4033-b326-b89ef607e4fb",
   "metadata": {},
   "outputs": [],
   "source": [
    "mycss2 = f\"\"\"\n",
    "@font-face {{\n",
    "    font-family: 'Canterbury';\n",
    "    src: url(data:font/ttf;base64,{encoded_font}) format('truetype');\n",
    "}}\n",
    "\n",
    ".original_text {{\n",
    "    font-family: 'Canterbury', serif;\n",
    "    font-size: 24px;\n",
    "}}\n",
    "\n",
    ".translation {{\n",
    "    font-family: 'Garamond', serif;\n",
    "    font-size: 20px;\n",
    "}}\n",
    "\"\"\"\n"
   ]
  },
  {
   "cell_type": "code",
   "execution_count": 42,
   "id": "193cee56-7de3-46fb-872e-de39333af6c3",
   "metadata": {},
   "outputs": [
    {
     "data": {
      "text/html": [
       "<style>\n",
       "@font-face {\n",
       "    font-family: 'Canterbury';\n",
       "    src: url(data:font/ttf;base64,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) format('truetype');\n",
       "}\n",
       "\n",
       ".original_text {\n",
       "    font-family: 'Canterbury', serif;\n",
       "    font-size: 24px;\n",
       "}\n",
       "\n",
       ".translation {\n",
       "    font-family: 'Garamond', serif;\n",
       "    font-size: 20px;\n",
       "}\n",
       "</style>"
      ],
      "text/plain": [
       "<IPython.core.display.HTML object>"
      ]
     },
     "metadata": {},
     "output_type": "display_data"
    }
   ],
   "source": [
    "display(HTML(f\"<style>{mycss2}</style>\"))"
   ]
  },
  {
   "cell_type": "markdown",
   "id": "392ec012-cbd2-4ca8-aba8-5c08696e1a13",
   "metadata": {},
   "source": [
    "Actually, I was incorrect when I wrote:\n",
    "> Also, I don't actually have to add the style to the display(HTML()) call, I just create a variable that stores my desired CSS in a string, and Notebook automatically applies it to all cells in all tabs.\n",
    "\n",
    "But I only realized it when putting together this file. Without running any of my main working file, I had to run the above code cell in order to use the Canterbury font. I assume that some section of my code, potentially even that section itself, loaded the font correctly, and it was somehow persisting across kernel restarts. I was absolutely correct, however, when I wrote:\n",
    ">Very strange\n",
    "\n",
    "I have no idea what was going on with that, I just know that it works now. Hopefully it works for other people as well.\n",
    "\n",
    "It's hard to convey how strange and frustrating this was, or how much I had to wrestle with ChatGPT to actually figure out the problem, but I don't regret it. It was somewhat fun, I have some more experience, and my poem now looks cooler."
   ]
  },
  {
   "cell_type": "markdown",
   "id": "a13b182d-8c6a-4aff-9def-7db6ecd81083",
   "metadata": {},
   "source": [
    "<h3>Part 5: Discussion</h3>\n",
    "\n",
    "Below, I have included the final version of the Diamante object and its saving and loading, so that I can load the example poems. I created a separate file with just the necessary code, which you could use to generate your own."
   ]
  },
  {
   "cell_type": "code",
   "execution_count": 43,
   "id": "1b2a559d-4fcd-41f7-9eb6-62db2155f593",
   "metadata": {
    "jupyter": {
     "source_hidden": true
    }
   },
   "outputs": [],
   "source": [
    "class DiamanteFinal:\n",
    "    def __init__(self, words, nouns, adjs, prtcpls):\n",
    "        self.topic1, self.topic2 = sample(nouns, k=2)\n",
    "        self.adj1, self.adj2, self.adj3, self.adj4 = sample(adjs, k=4)\n",
    "        self.p1, self.p2, self.p3, self.p4, self.p5, self.p6 = sample(prtcpls, k=6)\n",
    "        self.template1 = \"{0} & {1}\"\n",
    "        self.template2 = \"{0} {1}\" #adj + noun (repeated)\n",
    "        self.phrasenouns = sample(nouns, k=4)\n",
    "        self.phraseadjs = sample(adjs, k=2)\n",
    "        if not randint(0, 1):\n",
    "            #print(self.phrasenouns[:2])\n",
    "            self.phrase1 = self.template1.format(*self.phrasenouns[:2])\n",
    "            self.phrase2 = self.template1.format(*self.phrasenouns[2:])\n",
    "            self.phrase = f'{self.phrase1}, {self.phrase2}'\n",
    "            self.phrase_def = f'[{self.phrasenouns[0].deff}] & [{self.phrasenouns[1].deff}], [{self.phrasenouns[2].deff}] & [{self.phrasenouns[3].deff}]'\n",
    "        else:\n",
    "            self.phrase1 = self.template2.format(self.phraseadjs[0], self.phrasenouns[0])\n",
    "            self.phrase2 = self.template2.format(self.phraseadjs[1], self.phrasenouns[1])\n",
    "            self.phrase = f'{self.phrase1} and {self.phrase2}'\n",
    "            self.phrase_def = f'[{self.phraseadjs[0].deff}] [{self.phrasenouns[0].deff}] and [{self.phraseadjs[1].deff}] [{self.phrasenouns[1].deff}]'\n",
    "    def makePoem(self):\n",
    "        print()\n",
    "        #display(HTML('<style>{}</style>'.format(mycss)))\n",
    "        display(HTML(f\"<div class='original_text'><center>{self.topic1.name}</center></div>\"))\n",
    "        display(HTML(f\"<div class='original_text'><center>{self.adj1.name}  and {self.adj2.name}</center></div>\"))\n",
    "        display(HTML(f\"<div class='original_text'><center>{self.p1.name}, {self.p2.name}, {self.p3.name}</center></div>\"))\n",
    "        display(HTML(f\"<div class='original_text'><center>{self.phrase}</center></div>\"))\n",
    "        display(HTML(f\"<div class='original_text'><center>{self.p4.name}, {self.p5.name}, {self.p6.name}</center></div>\"))\n",
    "        display(HTML(f\"<div class='original_text'><center>{self.adj3.name}  and {self.adj4.name}</center></div>\"))\n",
    "        display(HTML(f\"<div class='original_text'><center>{self.topic2.name}</center></div>\"))\n",
    "        print()\n",
    "        display(HTML(f\"<div class='translation'><center>[{self.topic1.deff}]</center></div>\"))\n",
    "        display(HTML(f\"<div class='translation'><center>[{self.adj1.deff}]  and [{self.adj2.deff}]</center></div>\"))\n",
    "        display(HTML(f\"<div class='translation'><center>[{self.p1.deff}], [{self.p2.deff}], [{self.p3.deff}]</center></div>\"))\n",
    "        display(HTML(f\"<div class='translation'><center>{self.phrase_def}</center></div>\"))\n",
    "        display(HTML(f\"<div class='translation'><center>[{self.p4.deff}], [{self.p5.deff}], [{self.p6.deff}]</center></div>\"))\n",
    "        display(HTML(f\"<div class='translation'><center>[{self.adj3.deff}]  and [{self.adj4.deff}]</center></div>\"))\n",
    "        display(HTML(f\"<div class='translation'><center>[{self.topic2.deff}]</center></div>\"))\n",
    "        print()\n",
    "        if input(\"Do you want to save this poem?\").lower() in ('y', 'yes'):\n",
    "            save(self)"
   ]
  },
  {
   "cell_type": "code",
   "execution_count": 44,
   "id": "c65f09c4-aa92-4f72-836e-83056315bf51",
   "metadata": {
    "jupyter": {
     "source_hidden": true
    }
   },
   "outputs": [],
   "source": [
    "class PoemEncoder(json.JSONEncoder):\n",
    "    \"\"\" An encoder for Diamante poems (objects).\n",
    "    \"\"\"\n",
    "    def default(self, obj):\n",
    "        \"\"\" Encode a Diamante poem.\n",
    "        \n",
    "        Arguments:\n",
    "            obj (Diamante): the poem to encode\n",
    "            \n",
    "        Returns:\n",
    "            dict: the Diamante object's attributes, as a dictionary\n",
    "            if obj is not a Diamante, return the default method of the parent class\n",
    "        \"\"\"\n",
    "        if isinstance(obj, DiamanteFinal):\n",
    "            return {'topics': (obj.topic1, obj.topic2),\n",
    "                    'adjectives': (obj.adj1, obj.adj2, obj.adj3, obj.adj4),\n",
    "                    'participles': (obj.p1, obj.p2, obj.p3, obj.p4, obj.p5, obj.p6),\n",
    "                    'phrase': (obj.phrase),\n",
    "                    'phrase definition': (obj.phrase_def)\n",
    "                    }\n",
    "        return json.JSONEncoder.default(self, obj)\n",
    "\n",
    "class FwordEncoder(json.JSONEncoder):\n",
    "    \"\"\" An encoder for Fword (objects).\n",
    "    \"\"\"\n",
    "    def default(self, obj):\n",
    "        \"\"\" Encode an Fword object.\n",
    "        \n",
    "        Arguments:\n",
    "            obj (Fword): the word to encode\n",
    "            \n",
    "        Returns:\n",
    "            dict: the Fword object's attributes, as a dictionary\n",
    "            if obj is not an Fword, return the default method of the parent class\n",
    "        \"\"\"\n",
    "        if isinstance(obj, Fword):\n",
    "            return {'name': obj.name,\n",
    "                    'form': obj.form,\n",
    "                    'part of speech': obj.pos,\n",
    "                    'definition': obj.deff\n",
    "                    }\n",
    "        return json.JSONEncoder.default(self, obj)\n",
    "\n",
    "def save(poem, path='goodPoem'):\n",
    "    with open(f'{path}.json', 'w', encoding='utf-8') as f:\n",
    "        newattrs = [json.dumps(word, indent=2, cls=FwordEncoder) for word in (poem.topic1, poem.topic2, poem.adj1, poem.adj2, poem.adj3, poem.adj4, poem.p1, poem.p2, poem.p3, poem.p4, poem.p5, poem.p6)]\n",
    "        #newattrs.append(poem.phrase, poem.phrase_def)\n",
    "        poem.topic1, poem.topic2, poem.adj1, poem.adj2, poem.adj3, poem.adj4, poem.p1, poem.p2, poem.p3, poem.p4, poem.p5, poem.p6 = newattrs\n",
    "        json.dump(poem, f, indent=2, cls=PoemEncoder)\n",
    "\n",
    "def loadFword(word):\n",
    "    #print(word)\n",
    "    #print(type(word))\n",
    "    return Fword(word['name'], word['form'], word['part of speech'], word['definition'])\n",
    "\n",
    "def load(path, *args, **kwargs):\n",
    "    with open(path, 'r', encoding='utf-8') as f:\n",
    "        poemInfo = json.load(f)\n",
    "    newPoem = DiamanteFinal(*args)\n",
    "    newTopics, newAdjs, newPs = [], [], []\n",
    "    newPoem.topic1, newPoem.topic2 = [loadFword(json.loads(topic)) for topic in poemInfo['topics']]\n",
    "    newPoem.adj1, newPoem.adj2, newPoem.adj3, newPoem.adj4 = [loadFword(json.loads(adj)) for adj in poemInfo['adjectives']]\n",
    "    newPoem.p1, newPoem.p2, newPoem.p3, newPoem.p4, newPoem.p5, newPoem.p6 = [loadFword(json.loads(p)) for p in poemInfo['participles']]\n",
    "    newPoem.phrase = poemInfo['phrase']\n",
    "    newPoem.phrase_def = poemInfo['phrase definition']\n",
    "    return newPoem"
   ]
  },
  {
   "cell_type": "code",
   "execution_count": 50,
   "id": "cfe63266-f05a-4d74-b6ae-acd4c61bfbfd",
   "metadata": {},
   "outputs": [
    {
     "name": "stdout",
     "output_type": "stream",
     "text": [
      "\n"
     ]
    },
    {
     "data": {
      "text/html": [
       "<div class='original_text'><center>procuratour</center></div>"
      ],
      "text/plain": [
       "<IPython.core.display.HTML object>"
      ]
     },
     "metadata": {},
     "output_type": "display_data"
    },
    {
     "data": {
      "text/html": [
       "<div class='original_text'><center>digne  and privee</center></div>"
      ],
      "text/plain": [
       "<IPython.core.display.HTML object>"
      ]
     },
     "metadata": {},
     "output_type": "display_data"
    },
    {
     "data": {
      "text/html": [
       "<div class='original_text'><center>herknynge, encombred, grucchyng</center></div>"
      ],
      "text/plain": [
       "<IPython.core.display.HTML object>"
      ]
     },
     "metadata": {},
     "output_type": "display_data"
    },
    {
     "data": {
      "text/html": [
       "<div class='original_text'><center>sowple polax and untrewe myre</center></div>"
      ],
      "text/plain": [
       "<IPython.core.display.HTML object>"
      ]
     },
     "metadata": {},
     "output_type": "display_data"
    },
    {
     "data": {
      "text/html": [
       "<div class='original_text'><center>prikyng, mordrynge, venerie</center></div>"
      ],
      "text/plain": [
       "<IPython.core.display.HTML object>"
      ]
     },
     "metadata": {},
     "output_type": "display_data"
    },
    {
     "data": {
      "text/html": [
       "<div class='original_text'><center>wlatsom  and ferre</center></div>"
      ],
      "text/plain": [
       "<IPython.core.display.HTML object>"
      ]
     },
     "metadata": {},
     "output_type": "display_data"
    },
    {
     "data": {
      "text/html": [
       "<div class='original_text'><center>gnof</center></div>"
      ],
      "text/plain": [
       "<IPython.core.display.HTML object>"
      ]
     },
     "metadata": {},
     "output_type": "display_data"
    },
    {
     "name": "stdout",
     "output_type": "stream",
     "text": [
      "\n"
     ]
    },
    {
     "data": {
      "text/html": [
       "<div class='translation'><center>[ attorney]</center></div>"
      ],
      "text/plain": [
       "<IPython.core.display.HTML object>"
      ]
     },
     "metadata": {},
     "output_type": "display_data"
    },
    {
     "data": {
      "text/html": [
       "<div class='translation'><center>[ worthy]  and [ secretive, discreet]</center></div>"
      ],
      "text/plain": [
       "<IPython.core.display.HTML object>"
      ]
     },
     "metadata": {},
     "output_type": "display_data"
    },
    {
     "data": {
      "text/html": [
       "<div class='translation'><center>[ listening], [ 1. stuck], [ complaining]</center></div>"
      ],
      "text/plain": [
       "<IPython.core.display.HTML object>"
      ]
     },
     "metadata": {},
     "output_type": "display_data"
    },
    {
     "data": {
      "text/html": [
       "<div class='translation'><center>[ compliant] [ battle-axe, pole-axe] and [ 1. inaccurately] [ 1. mire, a stretch of swampy or boggy ground]</center></div>"
      ],
      "text/plain": [
       "<IPython.core.display.HTML object>"
      ]
     },
     "metadata": {},
     "output_type": "display_data"
    },
    {
     "data": {
      "text/html": [
       "<div class='translation'><center>[ tracking], [ murdering], [ hunting]</center></div>"
      ],
      "text/plain": [
       "<IPython.core.display.HTML object>"
      ]
     },
     "metadata": {},
     "output_type": "display_data"
    },
    {
     "data": {
      "text/html": [
       "<div class='translation'><center>[ disgusting, loathsome]  and [ farther]</center></div>"
      ],
      "text/plain": [
       "<IPython.core.display.HTML object>"
      ]
     },
     "metadata": {},
     "output_type": "display_data"
    },
    {
     "data": {
      "text/html": [
       "<div class='translation'><center>[ churl, peasant]</center></div>"
      ],
      "text/plain": [
       "<IPython.core.display.HTML object>"
      ]
     },
     "metadata": {},
     "output_type": "display_data"
    },
    {
     "name": "stdout",
     "output_type": "stream",
     "text": [
      "\n"
     ]
    },
    {
     "name": "stdin",
     "output_type": "stream",
     "text": [
      "Do you want to save this poem? no\n"
     ]
    }
   ],
   "source": [
    "exhibit1 = load('goodPoem_2.json', defined_words, nouns, adjectives, participles)\n",
    "exhibit1.makePoem()"
   ]
  },
  {
   "cell_type": "markdown",
   "id": "d22d76cd-c369-4cfa-9857-29eca72b8a81",
   "metadata": {},
   "source": [
    "I enjoy the story of this piece: the rich and powerful attorneys hunting down the gross, poor peasants with a poleaxe. It's an excellent representation of how the rich viewed peasants. Also, I believe attorneys were essentially agents of the king/local nobility, which makes this an even better metaphor for medieval society. I also enjoy the cognates here -- procurator, privee, digne, sowple -- as well as words that seemingly didn't survive the changes to English, like gnof and wlatsom.\n",
    "\n",
    "![img1](lawyer_attacking_peasants.png)\n",
    "\n",
    "I generated this image via Canva AI with the prompt:\n",
    ">An attorney hunting down peasants with a battleaxe in 14th-century England\n",
    "\n",
    "Which worked very well. I tried to incorporate the dirty, swampy aspect, but it invariably lost other aspects of the prompt.\n",
    "\n",
    "Note: I decided to generate my illustrations with AI, as these poems are very specifc and unique, and it fits the theme of this assignment/class."
   ]
  },
  {
   "cell_type": "code",
   "execution_count": 51,
   "id": "c14447f1-5227-4d43-93d2-999243ad1aea",
   "metadata": {},
   "outputs": [
    {
     "name": "stdout",
     "output_type": "stream",
     "text": [
      "\n"
     ]
    },
    {
     "data": {
      "text/html": [
       "<div class='original_text'><center>brymstoon</center></div>"
      ],
      "text/plain": [
       "<IPython.core.display.HTML object>"
      ]
     },
     "metadata": {},
     "output_type": "display_data"
    },
    {
     "data": {
      "text/html": [
       "<div class='original_text'><center>impertinent  and gastly</center></div>"
      ],
      "text/plain": [
       "<IPython.core.display.HTML object>"
      ]
     },
     "metadata": {},
     "output_type": "display_data"
    },
    {
     "data": {
      "text/html": [
       "<div class='original_text'><center>sublymyng, stryvyng, rowtyng</center></div>"
      ],
      "text/plain": [
       "<IPython.core.display.HTML object>"
      ]
     },
     "metadata": {},
     "output_type": "display_data"
    },
    {
     "data": {
      "text/html": [
       "<div class='original_text'><center>slider harlot and folily whetston</center></div>"
      ],
      "text/plain": [
       "<IPython.core.display.HTML object>"
      ]
     },
     "metadata": {},
     "output_type": "display_data"
    },
    {
     "data": {
      "text/html": [
       "<div class='original_text'><center>conseillyng, yiven, chidyng</center></div>"
      ],
      "text/plain": [
       "<IPython.core.display.HTML object>"
      ]
     },
     "metadata": {},
     "output_type": "display_data"
    },
    {
     "data": {
      "text/html": [
       "<div class='original_text'><center>shiten  and vinolent</center></div>"
      ],
      "text/plain": [
       "<IPython.core.display.HTML object>"
      ]
     },
     "metadata": {},
     "output_type": "display_data"
    },
    {
     "data": {
      "text/html": [
       "<div class='original_text'><center>girles</center></div>"
      ],
      "text/plain": [
       "<IPython.core.display.HTML object>"
      ]
     },
     "metadata": {},
     "output_type": "display_data"
    },
    {
     "name": "stdout",
     "output_type": "stream",
     "text": [
      "\n"
     ]
    },
    {
     "data": {
      "text/html": [
       "<div class='translation'><center>[ sulphur]</center></div>"
      ],
      "text/plain": [
       "<IPython.core.display.HTML object>"
      ]
     },
     "metadata": {},
     "output_type": "display_data"
    },
    {
     "data": {
      "text/html": [
       "<div class='translation'><center>[ irrelevant]  and [ horrible, terrifying]</center></div>"
      ],
      "text/plain": [
       "<IPython.core.display.HTML object>"
      ]
     },
     "metadata": {},
     "output_type": "display_data"
    },
    {
     "data": {
      "text/html": [
       "<div class='translation'><center>[ sublimating, purifying], [ strife, quarrelling], [ snoring]</center></div>"
      ],
      "text/plain": [
       "<IPython.core.display.HTML object>"
      ]
     },
     "metadata": {},
     "output_type": "display_data"
    },
    {
     "data": {
      "text/html": [
       "<div class='translation'><center>[ slippery] [ rascal, buffoon, jester] and [ foolishly] [ whetstone]</center></div>"
      ],
      "text/plain": [
       "<IPython.core.display.HTML object>"
      ]
     },
     "metadata": {},
     "output_type": "display_data"
    },
    {
     "data": {
      "text/html": [
       "<div class='translation'><center>[ advice], [ given], [ scolding]</center></div>"
      ],
      "text/plain": [
       "<IPython.core.display.HTML object>"
      ]
     },
     "metadata": {},
     "output_type": "display_data"
    },
    {
     "data": {
      "text/html": [
       "<div class='translation'><center>[ dirty, defiled]  and [ drunken]</center></div>"
      ],
      "text/plain": [
       "<IPython.core.display.HTML object>"
      ]
     },
     "metadata": {},
     "output_type": "display_data"
    },
    {
     "data": {
      "text/html": [
       "<div class='translation'><center>[ young women, young people]</center></div>"
      ],
      "text/plain": [
       "<IPython.core.display.HTML object>"
      ]
     },
     "metadata": {},
     "output_type": "display_data"
    },
    {
     "name": "stdout",
     "output_type": "stream",
     "text": [
      "\n"
     ]
    },
    {
     "name": "stdin",
     "output_type": "stream",
     "text": [
      "Do you want to save this poem? no\n"
     ]
    }
   ],
   "source": [
    "exhibit2 = load('goodPoem_9.json', defined_words, nouns, adjectives, participles)\n",
    "exhibit2.makePoem()"
   ]
  },
  {
   "cell_type": "markdown",
   "id": "443a6608-7fb4-4666-8385-7030dbc6056c",
   "metadata": {},
   "source": [
    "I love the overly serious, dramatic, doomsday-preacher feel of this poem. It's saying: We tried to warn them, we gave them advice and corrected their sins, and now these sinful women are doomed to fire and brimstone. It keeps a consistent theme throughout, and fits my stereotypes of medieval European religious dogma.\n",
    "\n",
    "I feel like this isn't a unique enough concept to illustrate, so I'll save that for a more abstract poem."
   ]
  },
  {
   "cell_type": "code",
   "execution_count": 52,
   "id": "1a9194a8-b379-43e6-8391-7fefbfff4c19",
   "metadata": {},
   "outputs": [
    {
     "name": "stdout",
     "output_type": "stream",
     "text": [
      "\n"
     ]
    },
    {
     "data": {
      "text/html": [
       "<div class='original_text'><center>sonde</center></div>"
      ],
      "text/plain": [
       "<IPython.core.display.HTML object>"
      ]
     },
     "metadata": {},
     "output_type": "display_data"
    },
    {
     "data": {
      "text/html": [
       "<div class='original_text'><center>shiten  and deef</center></div>"
      ],
      "text/plain": [
       "<IPython.core.display.HTML object>"
      ]
     },
     "metadata": {},
     "output_type": "display_data"
    },
    {
     "data": {
      "text/html": [
       "<div class='original_text'><center>floytynge, stryvyng, herknynge</center></div>"
      ],
      "text/plain": [
       "<IPython.core.display.HTML object>"
      ]
     },
     "metadata": {},
     "output_type": "display_data"
    },
    {
     "data": {
      "text/html": [
       "<div class='original_text'><center>corrumpable geldyng and embrouded pardoun</center></div>"
      ],
      "text/plain": [
       "<IPython.core.display.HTML object>"
      ]
     },
     "metadata": {},
     "output_type": "display_data"
    },
    {
     "data": {
      "text/html": [
       "<div class='original_text'><center>prikyng, conseillyng, fletynge</center></div>"
      ],
      "text/plain": [
       "<IPython.core.display.HTML object>"
      ]
     },
     "metadata": {},
     "output_type": "display_data"
    },
    {
     "data": {
      "text/html": [
       "<div class='original_text'><center>sobre  and blew</center></div>"
      ],
      "text/plain": [
       "<IPython.core.display.HTML object>"
      ]
     },
     "metadata": {},
     "output_type": "display_data"
    },
    {
     "data": {
      "text/html": [
       "<div class='original_text'><center>hewe</center></div>"
      ],
      "text/plain": [
       "<IPython.core.display.HTML object>"
      ]
     },
     "metadata": {},
     "output_type": "display_data"
    },
    {
     "name": "stdout",
     "output_type": "stream",
     "text": [
      "\n"
     ]
    },
    {
     "data": {
      "text/html": [
       "<div class='translation'><center>[ servant, messenger]</center></div>"
      ],
      "text/plain": [
       "<IPython.core.display.HTML object>"
      ]
     },
     "metadata": {},
     "output_type": "display_data"
    },
    {
     "data": {
      "text/html": [
       "<div class='translation'><center>[ dirty, defiled]  and [ deaf]</center></div>"
      ],
      "text/plain": [
       "<IPython.core.display.HTML object>"
      ]
     },
     "metadata": {},
     "output_type": "display_data"
    },
    {
     "data": {
      "text/html": [
       "<div class='translation'><center>[ whistling], [ strife, quarrelling], [ listening]</center></div>"
      ],
      "text/plain": [
       "<IPython.core.display.HTML object>"
      ]
     },
     "metadata": {},
     "output_type": "display_data"
    },
    {
     "data": {
      "text/html": [
       "<div class='translation'><center>[ corruptible] [ eunuch] and [ embroidered] [ 1. papal indulgences]</center></div>"
      ],
      "text/plain": [
       "<IPython.core.display.HTML object>"
      ]
     },
     "metadata": {},
     "output_type": "display_data"
    },
    {
     "data": {
      "text/html": [
       "<div class='translation'><center>[ tracking], [ advice], [ floating]</center></div>"
      ],
      "text/plain": [
       "<IPython.core.display.HTML object>"
      ]
     },
     "metadata": {},
     "output_type": "display_data"
    },
    {
     "data": {
      "text/html": [
       "<div class='translation'><center>[ serious, grave]  and [ blue ]</center></div>"
      ],
      "text/plain": [
       "<IPython.core.display.HTML object>"
      ]
     },
     "metadata": {},
     "output_type": "display_data"
    },
    {
     "data": {
      "text/html": [
       "<div class='translation'><center>[ hue, appearance]</center></div>"
      ],
      "text/plain": [
       "<IPython.core.display.HTML object>"
      ]
     },
     "metadata": {},
     "output_type": "display_data"
    },
    {
     "name": "stdout",
     "output_type": "stream",
     "text": [
      "\n"
     ]
    },
    {
     "name": "stdin",
     "output_type": "stream",
     "text": [
      "Do you want to save this poem? no\n"
     ]
    }
   ],
   "source": [
    "exhibit3 = load('goodPoem_8.json', defined_words, nouns, adjectives, participles)\n",
    "exhibit3.makePoem()"
   ]
  },
  {
   "cell_type": "markdown",
   "id": "78aa982f-83eb-4263-9063-fe5d994b0710",
   "metadata": {},
   "source": [
    "I chose this poem for two reasons: the ending, where my program happened to use color appropriately; and the excellent diction overall. It's funny, especially the beginning with its swearing and short, punchy words surprising the reader.\n",
    "\n",
    "I have no idea how I would illustrate this."
   ]
  },
  {
   "cell_type": "code",
   "execution_count": 53,
   "id": "5aba51a6-62d0-4cdb-a343-73ba973d3b3d",
   "metadata": {},
   "outputs": [
    {
     "name": "stdout",
     "output_type": "stream",
     "text": [
      "\n"
     ]
    },
    {
     "data": {
      "text/html": [
       "<div class='original_text'><center>yowthe</center></div>"
      ],
      "text/plain": [
       "<IPython.core.display.HTML object>"
      ]
     },
     "metadata": {},
     "output_type": "display_data"
    },
    {
     "data": {
      "text/html": [
       "<div class='original_text'><center>wayke  and trewe</center></div>"
      ],
      "text/plain": [
       "<IPython.core.display.HTML object>"
      ]
     },
     "metadata": {},
     "output_type": "display_data"
    },
    {
     "data": {
      "text/html": [
       "<div class='original_text'><center>wrastlynge, kithed, kithed</center></div>"
      ],
      "text/plain": [
       "<IPython.core.display.HTML object>"
      ]
     },
     "metadata": {},
     "output_type": "display_data"
    },
    {
     "data": {
      "text/html": [
       "<div class='original_text'><center>sike weddynge and kempe bridale</center></div>"
      ],
      "text/plain": [
       "<IPython.core.display.HTML object>"
      ]
     },
     "metadata": {},
     "output_type": "display_data"
    },
    {
     "data": {
      "text/html": [
       "<div class='original_text'><center>yiven, agast, mysboden</center></div>"
      ],
      "text/plain": [
       "<IPython.core.display.HTML object>"
      ]
     },
     "metadata": {},
     "output_type": "display_data"
    },
    {
     "data": {
      "text/html": [
       "<div class='original_text'><center>trenchant  and nyce</center></div>"
      ],
      "text/plain": [
       "<IPython.core.display.HTML object>"
      ]
     },
     "metadata": {},
     "output_type": "display_data"
    },
    {
     "data": {
      "text/html": [
       "<div class='original_text'><center>parissh clerk</center></div>"
      ],
      "text/plain": [
       "<IPython.core.display.HTML object>"
      ]
     },
     "metadata": {},
     "output_type": "display_data"
    },
    {
     "name": "stdout",
     "output_type": "stream",
     "text": [
      "\n"
     ]
    },
    {
     "data": {
      "text/html": [
       "<div class='translation'><center>[ youth]</center></div>"
      ],
      "text/plain": [
       "<IPython.core.display.HTML object>"
      ]
     },
     "metadata": {},
     "output_type": "display_data"
    },
    {
     "data": {
      "text/html": [
       "<div class='translation'><center>[ weak]  and [ true]</center></div>"
      ],
      "text/plain": [
       "<IPython.core.display.HTML object>"
      ]
     },
     "metadata": {},
     "output_type": "display_data"
    },
    {
     "data": {
      "text/html": [
       "<div class='translation'><center>[ wrestling], [ shown], [ shown]</center></div>"
      ],
      "text/plain": [
       "<IPython.core.display.HTML object>"
      ]
     },
     "metadata": {},
     "output_type": "display_data"
    },
    {
     "data": {
      "text/html": [
       "<div class='translation'><center>[ sick] [ wedding] and [ shaggy, unkempt] [ wedding-party]</center></div>"
      ],
      "text/plain": [
       "<IPython.core.display.HTML object>"
      ]
     },
     "metadata": {},
     "output_type": "display_data"
    },
    {
     "data": {
      "text/html": [
       "<div class='translation'><center>[ given], [ frightened], [ injured]</center></div>"
      ],
      "text/plain": [
       "<IPython.core.display.HTML object>"
      ]
     },
     "metadata": {},
     "output_type": "display_data"
    },
    {
     "data": {
      "text/html": [
       "<div class='translation'><center>[ sharp]  and [ foolish, scrupulous]</center></div>"
      ],
      "text/plain": [
       "<IPython.core.display.HTML object>"
      ]
     },
     "metadata": {},
     "output_type": "display_data"
    },
    {
     "data": {
      "text/html": [
       "<div class='translation'><center>[ someone who assists the parish priest to perform services in church]</center></div>"
      ],
      "text/plain": [
       "<IPython.core.display.HTML object>"
      ]
     },
     "metadata": {},
     "output_type": "display_data"
    },
    {
     "name": "stdout",
     "output_type": "stream",
     "text": [
      "\n"
     ]
    },
    {
     "name": "stdin",
     "output_type": "stream",
     "text": [
      "Do you want to save this poem? no\n"
     ]
    }
   ],
   "source": [
    "exhibit4 = load('goodPoem_3.json', defined_words, nouns, adjectives, participles)\n",
    "exhibit4.makePoem()"
   ]
  },
  {
   "cell_type": "markdown",
   "id": "ce1cde0f-d224-47f9-81b0-67785f63ee98",
   "metadata": {},
   "source": [
    "I love how consistent the word choice is here: a wedding, wedding party, and a priest's assistant. The adjectives are also consistently negative, creating a loose narrative here. For me, it's something like: two young people are getting married, too young to know what they're getting into, and too poor to afford a nice wedding and after-party. Then, there's some kind of accident, or maybe a plot, where either the parish clerk gets hurt or tries to hurt someone else. It's pretty impressive how consistent the nouns were, given it's pulling from 1000 possible nouns.\n",
    "\n",
    "I also wanted to note that this poem was generated by an older version of my code, where the participles could repeat. I actually don't mind the affect here, them being right next to each other creates emphasis instead of annoyance or boredom from repetition.\n",
    "\n",
    "![img2](bad_wedding.png)\n",
    "\n",
    "This was also generated by Canva AI, with the prompt:\n",
    ">a poor, dangerous wedding in 14th century England\n",
    "\n",
    "I tried the simpler \"14th century English shotgun wedding\" but it didn't quite understand that, so it just generated generic medieval wedding pictures. I like how it conveys danger, with the cracked floor and various hooded people in shadow."
   ]
  },
  {
   "cell_type": "code",
   "execution_count": 49,
   "id": "32e99f17-4b48-4185-90f2-01b247064a73",
   "metadata": {},
   "outputs": [
    {
     "name": "stdout",
     "output_type": "stream",
     "text": [
      "\n"
     ]
    },
    {
     "data": {
      "text/html": [
       "<div class='original_text'><center>avoutrye</center></div>"
      ],
      "text/plain": [
       "<IPython.core.display.HTML object>"
      ]
     },
     "metadata": {},
     "output_type": "display_data"
    },
    {
     "data": {
      "text/html": [
       "<div class='original_text'><center>seeke  and unwemmed</center></div>"
      ],
      "text/plain": [
       "<IPython.core.display.HTML object>"
      ]
     },
     "metadata": {},
     "output_type": "display_data"
    },
    {
     "data": {
      "text/html": [
       "<div class='original_text'><center>agast, stryvyng, janglerie</center></div>"
      ],
      "text/plain": [
       "<IPython.core.display.HTML object>"
      ]
     },
     "metadata": {},
     "output_type": "display_data"
    },
    {
     "data": {
      "text/html": [
       "<div class='original_text'><center>thrifty beggestere and ylyk em</center></div>"
      ],
      "text/plain": [
       "<IPython.core.display.HTML object>"
      ]
     },
     "metadata": {},
     "output_type": "display_data"
    },
    {
     "data": {
      "text/html": [
       "<div class='original_text'><center>saluyng, rowtyng, amended</center></div>"
      ],
      "text/plain": [
       "<IPython.core.display.HTML object>"
      ]
     },
     "metadata": {},
     "output_type": "display_data"
    },
    {
     "data": {
      "text/html": [
       "<div class='original_text'><center>plat  and wlatsom</center></div>"
      ],
      "text/plain": [
       "<IPython.core.display.HTML object>"
      ]
     },
     "metadata": {},
     "output_type": "display_data"
    },
    {
     "data": {
      "text/html": [
       "<div class='original_text'><center>bible</center></div>"
      ],
      "text/plain": [
       "<IPython.core.display.HTML object>"
      ]
     },
     "metadata": {},
     "output_type": "display_data"
    },
    {
     "name": "stdout",
     "output_type": "stream",
     "text": [
      "\n"
     ]
    },
    {
     "data": {
      "text/html": [
       "<div class='translation'><center>[ adultery]</center></div>"
      ],
      "text/plain": [
       "<IPython.core.display.HTML object>"
      ]
     },
     "metadata": {},
     "output_type": "display_data"
    },
    {
     "data": {
      "text/html": [
       "<div class='translation'><center>[ sick]  and [ unblemished, undefiled]</center></div>"
      ],
      "text/plain": [
       "<IPython.core.display.HTML object>"
      ]
     },
     "metadata": {},
     "output_type": "display_data"
    },
    {
     "data": {
      "text/html": [
       "<div class='translation'><center>[ frightened], [ strife, quarrelling], [ chatter]</center></div>"
      ],
      "text/plain": [
       "<IPython.core.display.HTML object>"
      ]
     },
     "metadata": {},
     "output_type": "display_data"
    },
    {
     "data": {
      "text/html": [
       "<div class='translation'><center>[ suitable, servicable, proper] [ beggar-woman] and [ alike, equal, like] [ uncle]</center></div>"
      ],
      "text/plain": [
       "<IPython.core.display.HTML object>"
      ]
     },
     "metadata": {},
     "output_type": "display_data"
    },
    {
     "data": {
      "text/html": [
       "<div class='translation'><center>[ greeting], [ snoring], [ improved, corrected]</center></div>"
      ],
      "text/plain": [
       "<IPython.core.display.HTML object>"
      ]
     },
     "metadata": {},
     "output_type": "display_data"
    },
    {
     "data": {
      "text/html": [
       "<div class='translation'><center>[ blunt, flat]  and [ disgusting, loathsome]</center></div>"
      ],
      "text/plain": [
       "<IPython.core.display.HTML object>"
      ]
     },
     "metadata": {},
     "output_type": "display_data"
    },
    {
     "data": {
      "text/html": [
       "<div class='translation'><center>[ book]</center></div>"
      ],
      "text/plain": [
       "<IPython.core.display.HTML object>"
      ]
     },
     "metadata": {},
     "output_type": "display_data"
    },
    {
     "name": "stdout",
     "output_type": "stream",
     "text": [
      "\n"
     ]
    },
    {
     "name": "stdin",
     "output_type": "stream",
     "text": [
      "Do you want to save this poem? no\n"
     ]
    }
   ],
   "source": [
    "exhibit5 = load('goodPoem_10.json', defined_words, nouns, adjectives, participles)\n",
    "exhibit5.makePoem()"
   ]
  },
  {
   "cell_type": "markdown",
   "id": "8736a538-3bc0-44cc-a5a5-9058d0fc2579",
   "metadata": {},
   "source": [
    "This one also tells a fantastic story. A husband cheats on his wife with a \"suitable beggar-woman\", perhaps as revenge for her sleeping with his uncle (or maybe that was the revenge, and the husband cheated first), and in their evil, renounce the Bible as \"loathsome\". Or something like that. The third line even implies the previous marital discord that led to this complete collapse. I do think the fifth line is out of place, seemingly unconnected to the rest of the poem, but that's its only serious flaw.\n",
    "\n",
    "![img3](dark_reflection.png)\n",
    "\n",
    "Again, I generated this image with the phrase:\n",
    ">collapsing adulterous marriage in 14th century England\n",
    "\n",
    "I find it interesting that it didn't include any actual evidence of the marriage, instead just a man with either his friends or guards (or maybe metaphorical representations of his morality and temptation) contemplating in a dark tunnel. It really covers the last section of the poem, where he decides to renounce his faith in darkness. Very cool."
   ]
  },
  {
   "cell_type": "markdown",
   "id": "93385aca-eef5-4fce-aaef-bb60244d195b",
   "metadata": {},
   "source": [
    "I definitely take ownership of my code, I spent many hours writing and debugging it. With that said, I feel much less ownership over the poems themselves. The actual words were written by Chaucer and described by the authors of the Librarius website, and the diamante format was invented in the 1960s and suggested by Professor Kraus. I did exercise some creative control over the poems, but through my code: including 'verbal nouns' with participles and adding a custom font being the two biggest examples. I considered curating the available words, and an improved version would likely involve some kind of curation, but I didn't have the time to actually comb through the ~1300 relevant words. I've only seen one offensive word so far, so it would be more for taste than moderation.\n",
    "\n",
    "I'm not sure exactly why, but this set of words is really excellent for this kind of poetry. I think every poem I've generated so far has been interesting, choosing which poems to show here was very difficult. I have several possible suggestions for why this worked so well:\n",
    "<ul>\n",
    "<li>The literary merit and entertainment value of Chaucer's original work</li>\n",
    "<li>Librarius chose the most interesting words in their curation</li>\n",
    "<li>The novelty of Middle English vocabulary and phonetics</li>\n",
    "<li>The sheer number of available nouns and adjectives creates significant variation, sustaining its novelty</li>\n",
    "<li>I just really like Middle and Old English, and I invested so much work into this project that I'm wearing thick rose-tinted glasses</li>\n",
    "</ul>\n",
    "Most likely, all these factors are what make the poems so consistently good.\n",
    "\n",
    "Each poem tends to develop its own style. Some are campy, some are funny and sardonic, others feel serious and thoughtful. The sheer variety of possible words allows for a diversity of themes, and yet the word quality holds up. Like I've said several times now, I initially wanted to curate the words, not only for increased creative expression but also to ensure a higher-quality pool of possible poems. However, like I said earlier, it turned out so well without the curation that I believe any efforts to trim down the available words would only produce incremental changes in the quality of potential poems.\n",
    "\n",
    "I think this project was a great success. I'm very happy with how it turned out, I had fun writing the code and generating cool poetry, and I gained some experience wrestling with Jupyter Notebook and CSS."
   ]
  }
 ],
 "metadata": {
  "kernelspec": {
   "display_name": "Python 3 (ipykernel)",
   "language": "python",
   "name": "python3"
  },
  "language_info": {
   "codemirror_mode": {
    "name": "ipython",
    "version": 3
   },
   "file_extension": ".py",
   "mimetype": "text/x-python",
   "name": "python",
   "nbconvert_exporter": "python",
   "pygments_lexer": "ipython3",
   "version": "3.10.12"
  }
 },
 "nbformat": 4,
 "nbformat_minor": 5
}
