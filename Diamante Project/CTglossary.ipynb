{
 "cells": [
  {
   "cell_type": "markdown",
   "id": "aa54f13e-fd5f-4359-a738-3a067ef35392",
   "metadata": {},
   "source": [
    "09/17:"
   ]
  },
  {
   "cell_type": "code",
   "execution_count": 2,
   "id": "cab51fb3-977d-4fa4-94ec-6a642c56d7a6",
   "metadata": {},
   "outputs": [],
   "source": [
    "import requests, json\n",
    "import bs4\n",
    "import re"
   ]
  },
  {
   "cell_type": "code",
   "execution_count": 3,
   "id": "ff1da881-80f7-4040-8288-e902e6589208",
   "metadata": {},
   "outputs": [],
   "source": [
    "url = \"http://www.librarius.com/gy.htm\"\n",
    "request = requests.get(url)\n",
    "raw = request.content"
   ]
  },
  {
   "cell_type": "code",
   "execution_count": 3,
   "id": "1e3ed0c5-480a-4afa-ba1a-0b0fbd3406ba",
   "metadata": {},
   "outputs": [],
   "source": [
    "#print(raw)"
   ]
  },
  {
   "cell_type": "code",
   "execution_count": 4,
   "id": "1f02ae38-934e-49e2-bfdf-0b2be33a3aab",
   "metadata": {},
   "outputs": [],
   "source": [
    "soup = bs4.BeautifulSoup(raw, 'html.parser')"
   ]
  },
  {
   "cell_type": "code",
   "execution_count": 5,
   "id": "5f37b097-96c1-463a-bfa5-afbc129a2ecd",
   "metadata": {},
   "outputs": [
    {
     "name": "stdout",
     "output_type": "stream",
     "text": [
      "2050\n"
     ]
    }
   ],
   "source": [
    "entries = soup('p', limit=1)\n",
    "text = str(entries)\n",
    "mylist = text.split('\\n')\n",
    "print(len(mylist))\n",
    "#print(text)"
   ]
  },
  {
   "cell_type": "code",
   "execution_count": 6,
   "id": "9ba57485-ae19-4ba1-9252-b7ea07f599ad",
   "metadata": {},
   "outputs": [
    {
     "name": "stdout",
     "output_type": "stream",
     "text": [
      "['[<p>', '<a name=\"abegge\"><b>abegge</b> <small><i>verb</i></small> pay for (it)<p>', '<a name=\"abyde\"><b>abid, abyd, abyde</b> <small><i>verb, prsnt.</i></small> remain, await, wait; <b>abood</b> <small><i>verb, pst.</i></small> awaited, remained<p>', '<a name=\"abideth\"><b>abideth, abydeth</b> <small><i>verb</i></small> awaits<p>', '<a name=\"abidyng\"><b>abidyng</b> <small><i>verb</i></small> awaiting<p>', '<a name=\"able\"><b>able</b> <small><i>adj.</i></small> suitable<p>', '<a name=\"abluciouns\"><b>abluciouns</b> <small><i>noun</i></small> cleansings<p>', '<a name=\"abood\"><b>abood</b> <small><i>noun</i></small> delay<p>', '<a name=\"above\"><b>above</b> <small><i>adj.</i></small> superior<p>', '<a name=\"abregge\"><b>abregge</b> <small><i>verb</i></small> abridge, shorten<p>']\n"
     ]
    }
   ],
   "source": [
    "print(mylist[:10])"
   ]
  },
  {
   "cell_type": "code",
   "execution_count": 7,
   "id": "63bc4fb3-19d1-4ee6-9805-4ddb43e59ea8",
   "metadata": {},
   "outputs": [],
   "source": [
    "first_entry = soup.find('a', attrs={'name': re.compile('.*')})\n",
    "first_entry = str(first_entry)"
   ]
  },
  {
   "cell_type": "code",
   "execution_count": 8,
   "id": "0849c609-8e2f-41b0-b488-451c86dbfb56",
   "metadata": {},
   "outputs": [],
   "source": [
    "actual_first = first_entry.split('\\n')[0]"
   ]
  },
  {
   "cell_type": "code",
   "execution_count": 9,
   "id": "ca21c298-7c80-41f3-8a2d-e2916cd56d51",
   "metadata": {},
   "outputs": [
    {
     "name": "stdout",
     "output_type": "stream",
     "text": [
      "<a name=\"abayst\"><b>abayst</b> embarrassed<p>\n"
     ]
    }
   ],
   "source": [
    "print(actual_first)"
   ]
  },
  {
   "cell_type": "code",
   "execution_count": 11,
   "id": "26f46fe7-00c6-4ea0-aa63-eaafc041d2f3",
   "metadata": {},
   "outputs": [],
   "source": [
    "mylist[0] = actual_first"
   ]
  },
  {
   "cell_type": "code",
   "execution_count": 12,
   "id": "d51d9f43-8610-462a-973f-1038061232eb",
   "metadata": {},
   "outputs": [
    {
     "name": "stdout",
     "output_type": "stream",
     "text": [
      "['<a name=\"abayst\"><b>abayst</b> embarrassed<p>', '<a name=\"abegge\"><b>abegge</b> <small><i>verb</i></small> pay for (it)<p>', '<a name=\"abyde\"><b>abid, abyd, abyde</b> <small><i>verb, prsnt.</i></small> remain, await, wait; <b>abood</b> <small><i>verb, pst.</i></small> awaited, remained<p>', '<a name=\"abideth\"><b>abideth, abydeth</b> <small><i>verb</i></small> awaits<p>', '<a name=\"abidyng\"><b>abidyng</b> <small><i>verb</i></small> awaiting<p>', '<a name=\"able\"><b>able</b> <small><i>adj.</i></small> suitable<p>', '<a name=\"abluciouns\"><b>abluciouns</b> <small><i>noun</i></small> cleansings<p>', '<a name=\"abood\"><b>abood</b> <small><i>noun</i></small> delay<p>', '<a name=\"above\"><b>above</b> <small><i>adj.</i></small> superior<p>', '<a name=\"abregge\"><b>abregge</b> <small><i>verb</i></small> abridge, shorten<p>']\n"
     ]
    }
   ],
   "source": [
    "print(mylist[:10])"
   ]
  },
  {
   "cell_type": "code",
   "execution_count": 13,
   "id": "b51dd41d-1efd-44a8-b2a2-2823b2faca15",
   "metadata": {},
   "outputs": [],
   "source": [
    "CTpattern = r\"\"\"(?x)\n",
    "(?P<first_form><a(.*)?\\sname=\\\"(?P<name>.+?)\\\"><b>(?P<middle_eng_term1>.*?)</b>\\s?(<small><i>(?P<pos1>.*?)?</i></small>)?(?P<definition1>.*?))[<;]\n",
    "(?P<second_form>\\s<b>(?P<middle_eng_term2>.*?)</b>\\s?(<small><i>(?P<pos2>.*?)?</i></small>)?(?P<definition2>.*?)[<;])?\n",
    "(?P<extra>.*)?\"\"\""
   ]
  },
  {
   "cell_type": "code",
   "execution_count": 14,
   "id": "63709125-91e8-40d9-9fe9-3b8760f5321d",
   "metadata": {},
   "outputs": [],
   "source": [
    "class Fword:\n",
    "    def __init__(self, name, form, pos, definition, form2=None, pos2=None, def2=None, extra=None):\n",
    "        self.name = name\n",
    "        self.form = form\n",
    "        self.pos = pos\n",
    "        self.deff = definition\n",
    "        self.form2 = form2\n",
    "        self.pos2 = pos2\n",
    "        self.deff2 = def2\n",
    "        self.extra = extra\n",
    "    def __str__(self):\n",
    "        if True:\n",
    "            return self.name\n",
    "        if self.form2:\n",
    "            return f\"fword object of {self.name}, with forms {self.form}, {self.form2}\"\n",
    "        else:\n",
    "            return f\"fword object of {self.name}, with form(s) {self.form}\"\n",
    "    def __repr__(self):\n",
    "        return f\"fwordObject {self.name}\"\n",
    "    def describe(self):\n",
    "        if self.form2 and self.pos2 and self.def2:\n",
    "            return f\"name: {self.name}, first form: {self.form}, part of speech: {self.pos}, definition: {self.deff}, second form: {self.form2}, part of speech: {self.pos2}, definition: {self.deff2}\"\n",
    "        else:\n",
    "            return f\"name: {self.name}, first form: {self.form}, part of speech: {self.pos}, definition: {self.deff}\"\n",
    "def get_pos(pos, fwords):\n",
    "    selection = []\n",
    "    for word in fwords:\n",
    "        if pos in word.pos or (word.pos2 != None and pos in word.pos2):\n",
    "            selection.append(word)\n",
    "    return selection"
   ]
  },
  {
   "cell_type": "code",
   "execution_count": 15,
   "id": "0489f040-dcd6-4eea-9700-83ad4f3356e5",
   "metadata": {},
   "outputs": [
    {
     "name": "stdout",
     "output_type": "stream",
     "text": [
      "2029\n",
      "'NoneType' object is not subscriptable\n"
     ]
    }
   ],
   "source": [
    "defined_words = []\n",
    "x = 0\n",
    "for line in mylist:\n",
    "    raw_word = re.search(CTpattern, line)\n",
    "    try:\n",
    "        word_name = raw_word['name']\n",
    "        form1 = raw_word['middle_eng_term1']\n",
    "        form1_pos = raw_word['pos1']\n",
    "        if form1_pos == None:\n",
    "            form1_pos = 'other'\n",
    "        form1_def = raw_word['definition1']\n",
    "        try:\n",
    "            form2 = raw_word['middle_eng_term2']\n",
    "            form2_pos = raw_word['pos2']\n",
    "            form2_def = raw_word['definition2']\n",
    "            try:\n",
    "                extra = raw_word['extra']\n",
    "                word = Fword(word_name, form1, form1_pos, form1_def, form2=form2, pos2=form2_pos, def2=form2_def, extra=extra)\n",
    "            except TypeError as e:\n",
    "                word = Fword(word_name, form1, form1_pos, form1_def, form2=form2, pos2=form2_pos, def2=form2_def)\n",
    "        except TypeError as e:\n",
    "            word = Fword(word_name, form1, form1_pos, form1_def)\n",
    "        defined_words.append(word)\n",
    "        x += 1\n",
    "    except TypeError as e:\n",
    "        print(x)\n",
    "        print(e)\n",
    "        break"
   ]
  },
  {
   "cell_type": "code",
   "execution_count": 16,
   "id": "d5032986-7037-492e-94e4-bd2c9507e845",
   "metadata": {},
   "outputs": [
    {
     "name": "stdout",
     "output_type": "stream",
     "text": [
      "abayst\n"
     ]
    }
   ],
   "source": [
    "print(defined_words[0])"
   ]
  },
  {
   "cell_type": "code",
   "execution_count": 17,
   "id": "9204af3f-f1a7-4c2d-bc73-31693433e798",
   "metadata": {},
   "outputs": [],
   "source": [
    "#defined_words[2]['middle_eng_term1']"
   ]
  },
  {
   "cell_type": "code",
   "execution_count": 18,
   "id": "6aeef32e-33ab-42c2-9eea-f54c82a02a4d",
   "metadata": {},
   "outputs": [
    {
     "data": {
      "text/plain": [
       "fwordObject abyde"
      ]
     },
     "execution_count": 18,
     "metadata": {},
     "output_type": "execute_result"
    }
   ],
   "source": [
    "defined_words[2]"
   ]
  },
  {
   "cell_type": "code",
   "execution_count": 19,
   "id": "8b964b98-1b42-4247-bebe-7a6516c12a82",
   "metadata": {},
   "outputs": [
    {
     "data": {
      "text/plain": [
       "'<a \"=\"\" name=\"peyre of tables\"><b>peyre of tables</b> folding set of writing tablets<p>'"
      ]
     },
     "execution_count": 19,
     "metadata": {},
     "output_type": "execute_result"
    }
   ],
   "source": [
    "mylist[1282]"
   ]
  },
  {
   "cell_type": "code",
   "execution_count": 20,
   "id": "9ff16d8e-4289-4272-9691-de33300a2719",
   "metadata": {},
   "outputs": [
    {
     "data": {
      "text/plain": [
       "'<a name=\"yclawed\"><b>yclawed</b><small><i>verb</i></small> lacerated, torn apart<p>'"
      ]
     },
     "execution_count": 20,
     "metadata": {},
     "output_type": "execute_result"
    }
   ],
   "source": [
    "mylist[1982]"
   ]
  },
  {
   "cell_type": "code",
   "execution_count": 21,
   "id": "104496e5-7b9b-4d3d-ae4f-06cfe33d74c8",
   "metadata": {},
   "outputs": [
    {
     "data": {
      "text/plain": [
       "'<a name=\"ycleped\"><b>ycleped (cleped)</b> <small><i>verb, pst. sg.</i></small> called<p>'"
      ]
     },
     "execution_count": 21,
     "metadata": {},
     "output_type": "execute_result"
    }
   ],
   "source": [
    "mylist[1983]"
   ]
  },
  {
   "cell_type": "code",
   "execution_count": 20,
   "id": "8c4135f7-74b6-46b3-b878-cc9be98fee42",
   "metadata": {},
   "outputs": [
    {
     "data": {
      "text/plain": [
       "'<a name=\"Zephirus\"><b>Zephirus</b> <small><i>noun</i></small> the west wind that blows in Spring<p>'"
      ]
     },
     "execution_count": 20,
     "metadata": {},
     "output_type": "execute_result"
    }
   ],
   "source": [
    "mylist[2028]"
   ]
  },
  {
   "cell_type": "code",
   "execution_count": 21,
   "id": "e7da40b1-5874-455c-9f82-12ff2341978a",
   "metadata": {},
   "outputs": [
    {
     "data": {
      "text/plain": [
       "1070"
      ]
     },
     "execution_count": 21,
     "metadata": {},
     "output_type": "execute_result"
    }
   ],
   "source": [
    "len(get_pos('noun', defined_words))"
   ]
  },
  {
   "cell_type": "code",
   "execution_count": 22,
   "id": "965dabb8-ffd8-4bb4-b444-a033b974bf4c",
   "metadata": {},
   "outputs": [],
   "source": [
    "def get_none(fwords):\n",
    "    for word in fwords:\n",
    "        try:\n",
    "            if 'noun' in word.pos:\n",
    "                pass\n",
    "        except TypeError:\n",
    "            print(word)"
   ]
  },
  {
   "cell_type": "code",
   "execution_count": 23,
   "id": "39aac643-f0ff-4b8c-b8dd-11cc12ded85c",
   "metadata": {},
   "outputs": [],
   "source": [
    "get_none(defined_words)"
   ]
  },
  {
   "cell_type": "code",
   "execution_count": 24,
   "id": "ecfee304-dbb7-423b-a49d-5f26bdf984e8",
   "metadata": {},
   "outputs": [],
   "source": [
    "def get_possible_pos(fwords):\n",
    "    posses = []\n",
    "    for word in fwords:\n",
    "        if word.pos not in posses:\n",
    "            posses.append(word.pos)\n",
    "        try:\n",
    "            if word.pos2 not in posses and word.pos2:\n",
    "                posses.append(word.pos2)\n",
    "        except AttributeError:\n",
    "            pass\n",
    "    return posses"
   ]
  },
  {
   "cell_type": "code",
   "execution_count": 25,
   "id": "d103867d-6892-498e-8aa5-1bb8dc1b02b6",
   "metadata": {},
   "outputs": [
    {
     "name": "stdout",
     "output_type": "stream",
     "text": [
      "['other', 'verb', 'verb, prsnt.', 'verb, pst.', 'adj.', 'noun', 'prep.', 'verb, prsnt', 'verb, pst. prtcpl.', 'verb, pst. sg.', 'conj.', 'adv.', 'verb, prsnt. sg.', '(Latin)', 'noun, sg.', 'noun, pl.', 'verb, pst. sg', 'verbal noun', 'verb, 3rd prs. sg.', 'adverb', ' noun', 'verb, pst', 'verb, 3rd prs. prsnt.', 'noun sg.', 'verb, prsnt, 3rd prs. sg.', 'adv. ', 'pst.', 'verb, 1st prs. sg. prst', 'verb, 3rd prs. sg. prst.', 'comp.', '', 'verb, 2nd prs. sg. prsnt.', 'verb, 3rd prs. sg. prsnt.', 'verb, pst. ', 'pro.', 'adj. superlative', 'noun &amp; adj.', 'noun, pl', 'adv. superlative', 'verb, prs. prtcpl.', 'num.', 'noun &amp; verb', 'interj.', 'comparative', 'pro. ', 'adj. ', 'verb. pst.', 'verb, verbal noun', 'noun pl.', '(French)', 'adj. &amp; noun', 'verb, 2nd prs. sg.', 'verb, 3rd prs.sg.', 'verb, prtcpl.', 'adv.</i> </small> closely; <small><i>adj.', 'adv. &amp; noun', 'adj', '3rd prs. sg.', 'adv</i>.</small> 1. gently; 2. quietly; <small><i>adj.', 'conj. &amp; prep.', 'demonstr. adj.', 'noun, p.', 'adj. &amp; verb', 'adv', 'pst. prtcpl.', 'verb, pst.pl.', 'verb, 2nd pers. prsnt. sg.', 'verb, 1st &amp; 3rd pers. prsnt. sg.']\n"
     ]
    }
   ],
   "source": [
    "print(get_possible_pos(defined_words))"
   ]
  },
  {
   "cell_type": "code",
   "execution_count": 26,
   "id": "0d25d298-72ba-459a-a62c-5203bee4f92f",
   "metadata": {},
   "outputs": [
    {
     "name": "stdout",
     "output_type": "stream",
     "text": [
      "name: adoun, first form: adoun, part of speech: prep., definition:  below\n",
      "name: after-mete, first form: after-mete, part of speech: prep., definition:  the time after diner\n",
      "name: agast, first form: agast, part of speech: verb, pst. prtcpl., definition:  frightened\n",
      "name: amended, first form: amended, part of speech: verb, pst. prtcpl., definition:  improved, corrected\n",
      "name: amor vincit omnia, first form: Amor vincit omnia, part of speech: (Latin), definition:  Love conquers all\n",
      "name: arrayed, first form: arrayed, part of speech: verb, pst. prtcpl., definition:  prepared, adorned\n",
      "name: at erst, first form: at erst, part of speech: prep., definition:  for the first time\n",
      "name: avauntyng, first form: avauntyng, part of speech: verbal noun, definition:  boasting\n",
      "name: ave marie, first form: Ave Marie, part of speech: (Latin), definition:  Hail Mary (first words of a Latin prayer)\n",
      "name: berkyng, first form: berkyng, part of speech: verbal noun, definition:  barking\n",
      "name: bitwix, first form: bitwix, bitwixe, bitwixen, bitwyxen, part of speech: prep., definition:  between\n",
      "name: chidyng, first form: chidyng, part of speech: verbal noun, definition:  scolding\n",
      "name: clad, first form: clad, part of speech: verb, pst. prtcpl., definition:  clothed\n",
      "name: cleped, first form: cleped (ycleped), part of speech: pst., definition:  called\n",
      "name: conseillyng, first form: conseillyng, part of speech: verbal noun, definition:  advice\n",
      "name: depeint, first form: depeint, part of speech: verb, pst. prtcpl., definition:  stained\n",
      "name: depeynted, first form: depeynted, part of speech: verb, pst. prtcpl., definition:  painted\n",
      "name: depper, first form: depper, part of speech: comp., definition:  more deeply\n",
      "name: diffame, first form: diffame, part of speech: , definition:  bad reputation\n",
      "name: ech, first form: ech, part of speech: pro., definition:  each (one)\n",
      "name: echon, first form: echon, part of speech: pro., definition:  each one\n",
      "name: encombred, first form: encombred, part of speech: verb, pst. prtcpl., definition:  1. stuck\n",
      "name: eschawfed, first form: eschawfed, part of speech: verb, pst. prtcpl., definition:  heated\n",
      "name: eschawfyne, first form: eschawfyne, part of speech: verbal noun, definition:  heating\n",
      "name: everichon, first form: everichon, everichoon, everychon, part of speech: pro., definition:  everyone\n",
      "name: fletynge, first form: fletynge, part of speech: verb, prs. prtcpl., definition:  floating\n",
      "name: floytynge, first form: floytynge, part of speech: verb, prs. prtcpl., definition:  whistling\n",
      "name: fyve, first form: fyve, part of speech: num., definition:  five\n",
      "name: galpyng, first form: galpyng, part of speech: verbal noun, definition:  yawning\n",
      "name: gretter, first form: gretter, part of speech: comparative, definition:  larger\n",
      "name: grucchyng, first form: grucchyng, gruchchyng, part of speech: verbal noun, definition:  complaining\n",
      "name: hem, first form: hem, part of speech: pro. , definition:  them\n",
      "name: herknynge, first form: herknynge, part of speech: verb, verbal noun, definition:  listening\n",
      "name: ik, first form: ik, part of speech: pro., definition:  I\n",
      "name: janglerie, first form: janglerie, part of speech: verbal noun, definition:  chatter\n",
      "name: je vous dy, first form: je vous dy, part of speech: (French), definition:  I tell you\n",
      "name: kembd, first form: kembd (ykembd), part of speech: verb, pst. prtcpl., definition:  combed\n",
      "name: kithed, first form: kithed, part of speech: verb, pst. prtcpl., definition:  shown\n",
      "name: levere, first form: levere, part of speech: comp., definition:  rather\n",
      "name: maugree, first form: maugree, part of speech: prep., definition:  despite\n",
      "name: mordrynge, first form: mordrynge, part of speech: verbal noun, definition:  murdering\n",
      "name: mowled, first form: mowled, part of speech: verb, prtcpl., definition:  molded\n",
      "name: murmur, first form: murmur, part of speech: verbal noun, definition:  grumbling\n",
      "name: mysboden, first form: mysboden, part of speech: verb, pst. prtcpl., definition:  injured\n",
      "name: narwe, first form: narwe, part of speech: adv.</i> </small> closely; <small><i>adj., definition:  narrow, small\n",
      "name: noon, first form: noon, part of speech: pro., definition:  none\n",
      "name: ny, first form: ny, part of speech: prep., definition:  close\n",
      "name: offended, first form: offended, part of speech: verb, pst. prtcpl., definition:  1. injured, 2. insulted\n",
      "name: oon, first form: oon, part of speech: num., definition:  one\n",
      "name: prechyng, first form: prechyng, part of speech: verbal noun, definition:  preaching\n",
      "name: prikyng, first form: prikyng, part of speech: verbal noun, definition:  tracking\n",
      "name: questio quid iuris, first form: Questio quid iuris, part of speech: (Latin), definition:  The question is, what law applies\n",
      "name: radix malorum, first form: Radix malorum est Cupiditas, part of speech: (Latin), definition:  Greed is the root of all evil\n",
      "name: rownynge, first form: rownynge, part of speech: verb, pst. prtcpl., definition:  whispering\n",
      "name: rowtyng, first form: rowtyng, part of speech: verbal noun, definition:  snoring\n",
      "name: saluyng, first form: saluyng, part of speech: verbal noun, definition:  greeting\n",
      "name: save, first form: save, part of speech: prep., definition:  except (that)\n",
      "name: softe, first form: softe, part of speech: adv</i>.</small> 1. gently; 2. quietly; <small><i>adj., definition:  1. gentle\n",
      "name: sother, first form: sother, part of speech: comp., definition:  truer\n",
      "name: squaymous, first form: squaymous, part of speech: , definition: sqeamish, easily nauseated or disgusted\n",
      "name: stryvyng, first form: stryvyng, part of speech: verbal noun, definition:  strife, quarrelling\n",
      "name: sublymyng, first form: sublymyng, part of speech: verbal noun, definition:  sublimating, purifying\n",
      "name: swayn, first form: swayn, part of speech: , definition: young gentleman\n",
      "name: swich, first form: swich, part of speech: pro., definition:  such\n",
      "name: syn, first form: syn, part of speech: conj. &amp; prep., definition:  since\n",
      "name: te deum, first form: Te Deum, part of speech: (Latin), definition:  To you O God\n",
      "name: thilke, first form: thilke, part of speech: demonstr. adj., definition:  that (same)\n",
      "name: thre, first form: thre, part of speech: num., definition:  three\n",
      "name: thridde, first form: thridde, part of speech: num., definition:  third\n",
      "name: thurgh, first form: thurgh, part of speech: prep., definition:  1. through\n",
      "name: tombesteres, first form: tombesteres, part of speech: noun, p., definition:  dancing girls\n",
      "name: toon, first form: toon, part of speech: , definition:  toes\n",
      "name: travaillynge, first form: travaillynge, part of speech: verbal noun, definition:  in labor\n",
      "name: tweye, first form: tweye, part of speech: num., definition:  two\n",
      "name: unyolden, first form: unyolden, part of speech: verbal noun, definition:  unyielding\n",
      "name: venerie, first form: venerie, part of speech: verbal noun, definition:  hunting\n",
      "name: wist, first form: wist, part of speech: pst. prtcpl., definition:  known\n",
      "name: wrastlynge, first form: wrestling, part of speech: verbal noun, definition:  wrestling\n",
      "name: ybete, first form: ybete, part of speech: verb, pst. prtcpl., definition:  embroidered\n",
      "name: yiven, first form: yiven, part of speech: verb, pst. prtcpl., definition:  given\n"
     ]
    }
   ],
   "source": [
    "for i in defined_words:\n",
    "    for j in ('(', 'comp.', 'pro.', 'num.', 'verbal noun', 'prtcpl.', '<', 'comparative', 'demonstr.', 'p.'):\n",
    "        if  i.pos == 'pst.' or not i.pos or j in i.pos:\n",
    "            print(i.describe())\n",
    "            break"
   ]
  },
  {
   "cell_type": "code",
   "execution_count": 27,
   "id": "ea002416-521e-4e0b-bdb8-158364ca6cae",
   "metadata": {},
   "outputs": [
    {
     "name": "stdout",
     "output_type": "stream",
     "text": [
      "1070\n"
     ]
    }
   ],
   "source": [
    "nouns = get_pos('noun', defined_words)\n",
    "print(len(nouns))"
   ]
  },
  {
   "cell_type": "code",
   "execution_count": 28,
   "id": "00d2c218-1a39-4e5e-bbda-e7434080b1d9",
   "metadata": {},
   "outputs": [
    {
     "name": "stdout",
     "output_type": "stream",
     "text": [
      "name: abluciouns, first form: abluciouns, part of speech: noun, definition:  cleansings\n",
      "name: abood, first form: abood, part of speech: noun, definition:  delay\n",
      "name: accidie, first form: accidie, part of speech: noun, definition:  sloth, laziness\n",
      "name: accord, first form: accord, acord, part of speech: noun, definition:  agreement\n",
      "name: achatours, first form: achatours, part of speech: noun, definition:  buyers\n",
      "name: affiance, first form: affiance, part of speech: noun, definition:  trust\n",
      "name: agu, first form: agu, part of speech: noun, definition:  acute fever\n",
      "name: aiel, first form: aiel, part of speech: noun, definition:  grandfather \n",
      "name: aketoun, first form: aketoun, part of speech: noun, definition:  wadded jacket worn under the chain-mail coat\n",
      "name: alauntz, first form: alauntz, part of speech: noun, definition:  wolfhounds\n"
     ]
    }
   ],
   "source": [
    "for noun in nouns[:10]:\n",
    "    print(noun.describe())"
   ]
  },
  {
   "cell_type": "markdown",
   "id": "4766f16a-9b3b-4a8a-8d06-39457c8e486b",
   "metadata": {},
   "source": [
    "9/26\n",
    "<h1>What I want:</h1>\n",
    "a fast method for selecting good words/phrases that's also repeatable  \n",
    "<h1>How to accomplish that:</h1>\n",
    "\n",
    "1. A function that displays a word and its info, one at a time, and I hit a button to save it or reject it\n",
    "2. Literally completely at random\n",
    "<h2>Option 1</h2>\n",
    "\n",
    "- hit 1 for save, 2 for reject\n",
    "- should save my choices when reloading jupyter\n",
    "- much harder to implement\n",
    "- more artistic control/input\n",
    "\n",
    "<h2>Option 2</h2>\n",
    "\n",
    "- very easy to implement\n",
    "- little to no control\n",
    "- may be harder to select phrases for fourth line"
   ]
  },
  {
   "cell_type": "markdown",
   "id": "bc44aa20-15db-4d14-afd8-d551dfed9891",
   "metadata": {},
   "source": [
    "First: just write Option 2, just in case Option 1 takes too long"
   ]
  },
  {
   "cell_type": "code",
   "execution_count": 29,
   "id": "73d6a295-ea7a-4004-a0fc-262dbb356bc2",
   "metadata": {},
   "outputs": [],
   "source": [
    "nouns = get_pos('noun', defined_words)\n",
    "adjectives = get_pos('adj.', defined_words)\n",
    "participles = get_pos('prtcpl.', defined_words) + get_pos('verbal noun', defined_words)"
   ]
  },
  {
   "cell_type": "code",
   "execution_count": 30,
   "id": "68af5d9d-98c4-47d5-b390-e4160a6d2763",
   "metadata": {},
   "outputs": [
    {
     "name": "stdout",
     "output_type": "stream",
     "text": [
      "238 40\n"
     ]
    }
   ],
   "source": [
    "print(len(adjectives), len(participles))"
   ]
  },
  {
   "cell_type": "code",
   "execution_count": 31,
   "id": "f617867d-16fd-4358-a2e9-3766e687f6ee",
   "metadata": {},
   "outputs": [
    {
     "name": "stdout",
     "output_type": "stream",
     "text": [
      "[fwordObject agast, fwordObject amended, fwordObject arrayed, fwordObject clad, fwordObject depeint, fwordObject depeynted, fwordObject encombred, fwordObject eschawfed, fwordObject fletynge, fwordObject floytynge, fwordObject kembd, fwordObject kithed, fwordObject mowled, fwordObject mysboden, fwordObject offended, fwordObject rownynge, fwordObject wist, fwordObject ybete, fwordObject yiven, fwordObject avauntyng, fwordObject berkyng, fwordObject chidyng, fwordObject conseillyng, fwordObject eschawfyne, fwordObject galpyng, fwordObject grucchyng, fwordObject herknynge, fwordObject janglerie, fwordObject mordrynge, fwordObject murmur, fwordObject prechyng, fwordObject prikyng, fwordObject rowtyng, fwordObject saluyng, fwordObject stryvyng, fwordObject sublymyng, fwordObject travaillynge, fwordObject unyolden, fwordObject venerie, fwordObject wrastlynge]\n"
     ]
    }
   ],
   "source": [
    "print(participles)"
   ]
  },
  {
   "cell_type": "code",
   "execution_count": 32,
   "id": "f1154c7e-42f8-4c2a-84bb-61773bb3aa62",
   "metadata": {},
   "outputs": [],
   "source": [
    "from random import choice, choices, randint, sample\n",
    "import os\n",
    "import time\n",
    "import IPython\n",
    "import IPython.display\n",
    "from IPython.display import HTML\n",
    "import json\n",
    "import base64"
   ]
  },
  {
   "cell_type": "code",
   "execution_count": 33,
   "id": "6949df90-787a-4b47-867f-92d552c45a43",
   "metadata": {},
   "outputs": [],
   "source": [
    "class Diamante:\n",
    "    def __init__(self, words, nouns, adjs, prtcpls):\n",
    "        self.topic1, self.topic2 = choices(nouns, k=2)\n",
    "        self.adj1, self.adj2, self.adj3, self.adj4 = choices(adjs, k=4)\n",
    "        self.p1, self.p2, self.p3, self.p4, self.p5, self.p6 = choices(prtcpls, k=6)\n",
    "        self.template1 = \"{0} & {1}\"\n",
    "        self.template2 = \"{0} {1}\" #adj + noun (repeated)\n",
    "        self.phrasenouns = choices(nouns, k=4)\n",
    "        self.phraseadjs = choices(adjs, k=2)\n",
    "        if not randint(0, 1):\n",
    "            self.phrase1 = self.template1.format(*self.phrasenouns[:2])\n",
    "            self.phrase2 = self.template1.format(*self.phrasenouns[2:])\n",
    "            self.phrase = f'{self.phrase1}, {self.phrase2}'\n",
    "            self.phrase_def = f'[{self.phrasenouns[0].deff}] & [{self.phrasenouns[1].deff}], [{self.phrasenouns[2].deff}] & [{self.phrasenouns[3].deff}]'\n",
    "        else:\n",
    "            self.phrase1 = self.template2.format(self.phraseadjs[0], self.phrasenouns[0])\n",
    "            self.phrase2 = self.template2.format(self.phraseadjs[1], self.phrasenouns[1])\n",
    "            self.phrase = f'{self.phrase1} and {self.phrase2}'\n",
    "            self.phrase_def = f'[{self.phraseadjs[0].deff}] [{self.phrasenouns[0].deff}] and [{self.phraseadjs[1].deff}] [{self.phrasenouns[1].deff}]'\n",
    "    def makePoem(self):\n",
    "        print()\n",
    "        display(HTML(f'<center><font face=\"Canterbury\" size=\"4\"> {self.topic1.name} </font></center>'))\n",
    "        display(HTML(f'<center><font face=\"garamond\" size=\"4\"> {self.adj1.name}  and {self.adj2.name}</font></center>'))\n",
    "        display(HTML(f'<center><font face=\"garamond\" size=\"4\"> {self.p1.name}, {self.p2.name}, {self.p3.name}</font></center>'))\n",
    "        display(HTML(f'<center><font face=\"garamond\" size=\"4\">{self.phrase}</font></center>'))\n",
    "        display(HTML(f'<center><font face=\"garamond\" size=\"4\"> {self.p4.name}, {self.p5.name}, {self.p6.name}</font></center>'))\n",
    "        display(HTML(f'<center><font face=\"garamond\" size=\"4\"> {self.adj3.name}  and {self.adj4.name}</font></center>'))\n",
    "        display(HTML(f'<center><font face=\"garamond\" size=\"4\"> {self.topic2.name} </font></center>'))\n",
    "        print()\n",
    "        display(HTML(f'<center><font face=\"garamond\" size=\"4\"> [{self.topic1.deff}] </font></center>'))\n",
    "        display(HTML(f'<center><font face=\"garamond\" size=\"4\"> [{self.adj1.deff}]  and [{self.adj2.deff}]</font></center>'))\n",
    "        display(HTML(f'<center><font face=\"garamond\" size=\"4\"> [{self.p1.deff}], [{self.p2.deff}], [{self.p3.deff}]</font></center>'))\n",
    "        display(HTML(f'<center><font face=\"garamond\" size=\"4\">{self.phrase_def}</font></center>'))\n",
    "        display(HTML(f'<center><font face=\"garamond\" size=\"4\"> [{self.p4.deff}], [{self.p5.deff}], [{self.p6.deff}]</font></center>'))\n",
    "        display(HTML(f'<center><font face=\"garamond\" size=\"4\"> [{self.adj3.deff}]  and [{self.adj4.deff}]</font></center>'))\n",
    "        display(HTML(f'<center><font face=\"garamond\" size=\"4\"> [{self.topic2.deff}] </font></center>'))\n",
    "        print()\n",
    "        if input(\"Do you want to save this poem?\").lower() in ('y', 'yes'):\n",
    "            save(self)"
   ]
  },
  {
   "cell_type": "code",
   "execution_count": 22,
   "id": "fda434ad-0c6a-4509-957a-b6c72ce509fb",
   "metadata": {},
   "outputs": [],
   "source": [
    "class PoemEncoder(json.JSONEncoder):\n",
    "    \"\"\" An encoder for Diamante poems (objects).\n",
    "    \"\"\"\n",
    "    def default(self, obj):\n",
    "        \"\"\" Encode a Diamante poem.\n",
    "        \n",
    "        Arguments:\n",
    "            obj (Diamante): the poem to encode\n",
    "            \n",
    "        Returns:\n",
    "            dict: the Diamante object's attributes, as a dictionary\n",
    "            if obj is not a Diamante, return the default method of the parent class\n",
    "        \"\"\"\n",
    "        if isinstance(obj, Diamante) or isinstance(obj, Diamante2):\n",
    "            return {'topics': (obj.topic1, obj.topic2),\n",
    "                    'adjectives': (obj.adj1, obj.adj2, obj.adj3, obj.adj4),\n",
    "                    'participles': (obj.p1, obj.p2, obj.p3, obj.p4, obj.p5, obj.p6),\n",
    "                    'phrase': (obj.phrase),\n",
    "                    'phrase definition': (obj.phrase_def)\n",
    "                    }\n",
    "        return json.JSONEncoder.default(self, obj)\n",
    "\n",
    "class FwordEncoder(json.JSONEncoder):\n",
    "    \"\"\" An encoder for Fword (objects).\n",
    "    \"\"\"\n",
    "    def default(self, obj):\n",
    "        \"\"\" Encode an Fword object.\n",
    "        \n",
    "        Arguments:\n",
    "            obj (Fword): the word to encode\n",
    "            \n",
    "        Returns:\n",
    "            dict: the Fword object's attributes, as a dictionary\n",
    "            if obj is not an Fword, return the default method of the parent class\n",
    "        \"\"\"\n",
    "        if isinstance(obj, Fword):\n",
    "            return {'name': obj.name,\n",
    "                    'form': obj.form,\n",
    "                    'part of speech': obj.pos,\n",
    "                    'definition': obj.deff\n",
    "                    }\n",
    "        return json.JSONEncoder.default(self, obj)\n",
    "\n",
    "def save(poem, path='goodPoem'):\n",
    "    with open(f'{path}.json', 'w', encoding='utf-8') as f:\n",
    "        newattrs = [json.dumps(word, indent=2, cls=FwordEncoder) for word in (poem.topic1, poem.topic2, poem.adj1, poem.adj2, poem.adj3, poem.adj4, poem.p1, poem.p2, poem.p3, poem.p4, poem.p5, poem.p6)]\n",
    "        #newattrs.append(poem.phrase, poem.phrase_def)\n",
    "        poem.topic1, poem.topic2, poem.adj1, poem.adj2, poem.adj3, poem.adj4, poem.p1, poem.p2, poem.p3, poem.p4, poem.p5, poem.p6 = newattrs\n",
    "        json.dump(poem, f, indent=2, cls=PoemEncoder)\n",
    "\n",
    "def loadFword(word):\n",
    "    #print(word)\n",
    "    #print(type(word))\n",
    "    return Fword(word['name'], word['form'], word['part of speech'], word['definition'])\n",
    "\n",
    "def load(path, *args, **kwargs):\n",
    "    with open(path, 'r', encoding='utf-8') as f:\n",
    "        poemInfo = json.load(f)\n",
    "    newPoem = Diamante(*args)\n",
    "    newTopics, newAdjs, newPs = [], [], []\n",
    "    newPoem.topic1, newPoem.topic2 = [loadFword(json.loads(topic)) for topic in poemInfo['topics']]\n",
    "    newPoem.adj1, newPoem.adj2, newPoem.adj3, newPoem.adj4 = [loadFword(json.loads(adj)) for adj in poemInfo['adjectives']]\n",
    "    newPoem.p1, newPoem.p2, newPoem.p3, newPoem.p4, newPoem.p5, newPoem.p6 = [loadFword(json.loads(p)) for p in poemInfo['participles']]\n",
    "    newPoem.phrase = poemInfo['phrase']\n",
    "    newPoem.phrase_def = poemInfo['phrase definition']\n",
    "    return newPoem"
   ]
  },
  {
   "cell_type": "code",
   "execution_count": 35,
   "id": "e3fb8964-977c-49a3-8695-caa981e898ae",
   "metadata": {},
   "outputs": [],
   "source": [
    "choicePoem = Diamante(defined_words, nouns, adjectives, participles)"
   ]
  },
  {
   "cell_type": "code",
   "execution_count": 23,
   "id": "4b823fc8-0c21-42a1-bc93-913356485521",
   "metadata": {},
   "outputs": [],
   "source": [
    "#choicePoem.makePoem()"
   ]
  },
  {
   "cell_type": "code",
   "execution_count": 37,
   "id": "f2e4582d-bf19-49ea-90a0-34337a06d716",
   "metadata": {},
   "outputs": [],
   "source": [
    "class Diamante2:\n",
    "    def __init__(self, words, nouns, adjs, prtcpls):\n",
    "        self.topic1, self.topic2 = sample(nouns, k=2)\n",
    "        self.adj1, self.adj2, self.adj3, self.adj4 = sample(adjs, k=4)\n",
    "        self.p1, self.p2, self.p3, self.p4, self.p5, self.p6 = sample(prtcpls, k=6)\n",
    "        self.template1 = \"{0} & {1}\"\n",
    "        self.template2 = \"{0} {1}\" #adj + noun (repeated)\n",
    "        self.phrasenouns = sample(nouns, k=4)\n",
    "        self.phraseadjs = sample(adjs, k=2)\n",
    "        if not randint(0, 1):\n",
    "            #print(self.phrasenouns[:2])\n",
    "            self.phrase1 = self.template1.format(*self.phrasenouns[:2])\n",
    "            self.phrase2 = self.template1.format(*self.phrasenouns[2:])\n",
    "            self.phrase = f'{self.phrase1}, {self.phrase2}'\n",
    "            self.phrase_def = f'[{self.phrasenouns[0].deff}] & [{self.phrasenouns[1].deff}], [{self.phrasenouns[2].deff}] & [{self.phrasenouns[3].deff}]'\n",
    "        else:\n",
    "            self.phrase1 = self.template2.format(self.phraseadjs[0], self.phrasenouns[0])\n",
    "            self.phrase2 = self.template2.format(self.phraseadjs[1], self.phrasenouns[1])\n",
    "            self.phrase = f'{self.phrase1} and {self.phrase2}'\n",
    "            self.phrase_def = f'[{self.phraseadjs[0].deff}] [{self.phrasenouns[0].deff}] and [{self.phraseadjs[1].deff}] [{self.phrasenouns[1].deff}]'\n",
    "    def makePoem(self):\n",
    "        print()\n",
    "        #display(HTML('<style>{}</style>'.format(mycss)))\n",
    "        display(HTML(f\"<center>{self.topic1.name}</center>\"))\n",
    "        display(HTML(f'<center>{self.adj1.name}  and {self.adj2.name}</center>'))\n",
    "        display(HTML(f'<center><font face=\"garamond\" size=\"4\"> {self.p1.name}, {self.p2.name}, {self.p3.name}</font></center>'))\n",
    "        display(HTML(f'<center><font face=\"garamond\" size=\"4\">{self.phrase}</font></center>'))\n",
    "        display(HTML(f'<center><font face=\"garamond\" size=\"4\"> {self.p4.name}, {self.p5.name}, {self.p6.name}</font></center>'))\n",
    "        display(HTML(f'<center><font face=\"garamond\" size=\"4\"> {self.adj3.name}  and {self.adj4.name}</font></center>'))\n",
    "        display(HTML(f'<center><font face=\"garamond\" size=\"4\"> {self.topic2.name} </font></center>'))\n",
    "        print()\n",
    "        display(HTML(f'<center><font face=\"garamond\" size=\"4\"> [{self.topic1.deff}] </font></center>'))\n",
    "        display(HTML(f'<center><font face=\"garamond\" size=\"4\"> [{self.adj1.deff}]  and [{self.adj2.deff}]</font></center>'))\n",
    "        display(HTML(f'<center><font face=\"garamond\" size=\"4\"> [{self.p1.deff}], [{self.p2.deff}], [{self.p3.deff}]</font></center>'))\n",
    "        display(HTML(f'<center><font face=\"garamond\" size=\"4\">{self.phrase_def}</font></center>'))\n",
    "        display(HTML(f'<center><font face=\"garamond\" size=\"4\"> [{self.p4.deff}], [{self.p5.deff}], [{self.p6.deff}]</font></center>'))\n",
    "        display(HTML(f'<center><font face=\"garamond\" size=\"4\"> [{self.adj3.deff}]  and [{self.adj4.deff}]</font></center>'))\n",
    "        display(HTML(f'<center><font face=\"garamond\" size=\"4\"> [{self.topic2.deff}] </font></center>'))\n",
    "        print()\n",
    "        if input(\"Do you want to save this poem?\").lower() in ('y', 'yes'):\n",
    "            save(self)"
   ]
  },
  {
   "cell_type": "code",
   "execution_count": 38,
   "id": "1dcd33c2-b90f-48b3-968c-70248d009f69",
   "metadata": {},
   "outputs": [],
   "source": [
    "samplingPoem = Diamante2(defined_words, nouns, adjectives, participles)"
   ]
  },
  {
   "cell_type": "code",
   "execution_count": 3,
   "id": "9d1e6916-94bb-47e7-9ee9-10415a0a6992",
   "metadata": {},
   "outputs": [],
   "source": [
    "#mycss = \"\"\"\n",
    "#@font-face: {font-family: Canterbury; src: url('Canterbury.ttf');\n",
    "#}\n",
    "#center {\n",
    "#font-family: Canterbury, Wingdings\n",
    "#}\n",
    "#\"\"\""
   ]
  },
  {
   "cell_type": "markdown",
   "id": "d0f75cd8-f008-4c8f-b008-999fbb8e6c58",
   "metadata": {},
   "source": [
    "^^^The above cell^^^\n",
    "\n",
    "Had to be commented out because it affects all cells in all files, and since I wrote an improved version lower down (with some help from ChatGPT), it overrides that cell. However, I want to keep the old cell around for documentation's sake"
   ]
  },
  {
   "cell_type": "code",
   "execution_count": 40,
   "id": "76f06fc6-330d-4f1c-bd44-dd8e5e94609f",
   "metadata": {},
   "outputs": [],
   "source": [
    "#samplingPoem.makePoem()"
   ]
  },
  {
   "cell_type": "code",
   "execution_count": 41,
   "id": "7199612b-0932-4f68-b802-84ce42af3b81",
   "metadata": {},
   "outputs": [],
   "source": [
    "loadTest = load('goodPoem_1.json', defined_words, nouns, adjectives, participles)"
   ]
  },
  {
   "cell_type": "code",
   "execution_count": 42,
   "id": "55d2e7bf-1bfb-41fc-8b41-27eb10840533",
   "metadata": {},
   "outputs": [],
   "source": [
    "#loadTest.makePoem()"
   ]
  },
  {
   "cell_type": "code",
   "execution_count": 43,
   "id": "4ec58bb8-62c2-41cf-9248-c18257d3a843",
   "metadata": {},
   "outputs": [],
   "source": [
    "loadTest2 = load('goodPoem_2.json', defined_words, nouns, adjectives, participles)"
   ]
  },
  {
   "cell_type": "code",
   "execution_count": 44,
   "id": "60892361-47cc-4954-affa-0478302c7228",
   "metadata": {
    "scrolled": true
   },
   "outputs": [],
   "source": [
    "#loadTest2.makePoem()"
   ]
  },
  {
   "cell_type": "markdown",
   "id": "9b7adeca-c9d8-4eab-86ed-02f734fc914c",
   "metadata": {},
   "source": [
    "<style>\n",
    "    @font-face: {font-family: Canterbury; src: url('Canterbury.ttf');\n",
    "                }\n",
    "    center {\n",
    "        font-family: Canterbury\n",
    "            }\n",
    "</style>\n",
    "<center>hello</center>\n",
    "<center><font face='Canterbury' size='4'>hello</font></center>"
   ]
  },
  {
   "cell_type": "code",
   "execution_count": 45,
   "id": "5fc1bbee-5f35-4473-8659-6508404214e8",
   "metadata": {},
   "outputs": [
    {
     "data": {
      "text/html": [
       "<center>hello</center>"
      ],
      "text/plain": [
       "<IPython.core.display.HTML object>"
      ]
     },
     "metadata": {},
     "output_type": "display_data"
    },
    {
     "ename": "NameError",
     "evalue": "name 'mycss' is not defined",
     "output_type": "error",
     "traceback": [
      "\u001b[0;31m---------------------------------------------------------------------------\u001b[0m",
      "\u001b[0;31mNameError\u001b[0m                                 Traceback (most recent call last)",
      "Cell \u001b[0;32mIn[45], line 2\u001b[0m\n\u001b[1;32m      1\u001b[0m display(HTML(\u001b[38;5;124m'\u001b[39m\u001b[38;5;124m<center>hello</center>\u001b[39m\u001b[38;5;124m'\u001b[39m))\n\u001b[0;32m----> 2\u001b[0m display(HTML(\u001b[38;5;124m'\u001b[39m\u001b[38;5;124m<head><style>\u001b[39m\u001b[38;5;132;01m{}\u001b[39;00m\u001b[38;5;124m</style></head><center>HELLO</center>\u001b[39m\u001b[38;5;124m'\u001b[39m\u001b[38;5;241m.\u001b[39mformat(\u001b[43mmycss\u001b[49m)))\n",
      "\u001b[0;31mNameError\u001b[0m: name 'mycss' is not defined"
     ]
    }
   ],
   "source": [
    "display(HTML('<center>hello</center>'))\n",
    "display(HTML('<head><style>{}</style></head><center>HELLO</center>'.format(mycss)))"
   ]
  },
  {
   "cell_type": "markdown",
   "id": "3d359c51-3b50-41af-b00e-8f9d83090c64",
   "metadata": {},
   "source": [
    "<center>hello</center>\n",
    "<center><font face='Canterbury' size='4'>hello</font></center>"
   ]
  },
  {
   "cell_type": "markdown",
   "id": "3722438b-140e-4f66-ad66-24a0acdedd5d",
   "metadata": {},
   "source": [
    "NOTE: Originally the previous text was not in the custom font, and I spent hours trying to get it to work. Eventually I asked ChatGPT for help, and put its results into a separate ipynb file to test. Not only did the code work, but it immediately changed the text in this file to the correct font. Also, I don't actually have to add the style to the display(HTML()) call, I just create a variable that stores my desired CSS in a string, and Notebook automatically applies it to all cells in all tabs. Very strange"
   ]
  },
  {
   "cell_type": "markdown",
   "id": "6f621732-deec-462e-be12-fe448d15b75e",
   "metadata": {},
   "source": [
    "WORKING VERSION\n",
    "\n",
    "just the poetry generation itself"
   ]
  },
  {
   "cell_type": "code",
   "execution_count": 46,
   "id": "4e08ae7e-a660-423f-8946-d4f4379da932",
   "metadata": {},
   "outputs": [],
   "source": [
    "class DiamanteFinal:\n",
    "    def __init__(self, words, nouns, adjs, prtcpls):\n",
    "        self.topic1, self.topic2 = sample(nouns, k=2)\n",
    "        self.adj1, self.adj2, self.adj3, self.adj4 = sample(adjs, k=4)\n",
    "        self.p1, self.p2, self.p3, self.p4, self.p5, self.p6 = sample(prtcpls, k=6)\n",
    "        self.template1 = \"{0} & {1}\"\n",
    "        self.template2 = \"{0} {1}\" #adj + noun (repeated)\n",
    "        self.phrasenouns = sample(nouns, k=4)\n",
    "        self.phraseadjs = sample(adjs, k=2)\n",
    "        if not randint(0, 1):\n",
    "            #print(self.phrasenouns[:2])\n",
    "            self.phrase1 = self.template1.format(*self.phrasenouns[:2])\n",
    "            self.phrase2 = self.template1.format(*self.phrasenouns[2:])\n",
    "            self.phrase = f'{self.phrase1}, {self.phrase2}'\n",
    "            self.phrase_def = f'[{self.phrasenouns[0].deff}] & [{self.phrasenouns[1].deff}], [{self.phrasenouns[2].deff}] & [{self.phrasenouns[3].deff}]'\n",
    "        else:\n",
    "            self.phrase1 = self.template2.format(self.phraseadjs[0], self.phrasenouns[0])\n",
    "            self.phrase2 = self.template2.format(self.phraseadjs[1], self.phrasenouns[1])\n",
    "            self.phrase = f'{self.phrase1} and {self.phrase2}'\n",
    "            self.phrase_def = f'[{self.phraseadjs[0].deff}] [{self.phrasenouns[0].deff}] and [{self.phraseadjs[1].deff}] [{self.phrasenouns[1].deff}]'\n",
    "    def makePoem(self):\n",
    "        print()\n",
    "        #display(HTML('<style>{}</style>'.format(mycss)))\n",
    "        display(HTML(f\"<div class='original_text'><center>{self.topic1.name}</center></div>\"))\n",
    "        display(HTML(f\"<div class='original_text'><center>{self.adj1.name}  and {self.adj2.name}</center></div>\"))\n",
    "        display(HTML(f\"<div class='original_text'><center>{self.p1.name}, {self.p2.name}, {self.p3.name}</center></div>\"))\n",
    "        display(HTML(f\"<div class='original_text'><center>{self.phrase}</center></div>\"))\n",
    "        display(HTML(f\"<div class='original_text'><center>{self.p4.name}, {self.p5.name}, {self.p6.name}</center></div>\"))\n",
    "        display(HTML(f\"<div class='original_text'><center>{self.adj3.name}  and {self.adj4.name}</center></div>\"))\n",
    "        display(HTML(f\"<div class='original_text'><center>{self.topic2.name}</center></div>\"))\n",
    "        print()\n",
    "        display(HTML(f\"<div class='translation'><center>[{self.topic1.deff}]</center></div>\"))\n",
    "        display(HTML(f\"<div class='translation'><center>[{self.adj1.deff}]  and [{self.adj2.deff}]</center></div>\"))\n",
    "        display(HTML(f\"<div class='translation'><center>[{self.p1.deff}], [{self.p2.deff}], [{self.p3.deff}]</center></div>\"))\n",
    "        display(HTML(f\"<div class='translation'><center>{self.phrase_def}</center></div>\"))\n",
    "        display(HTML(f\"<div class='translation'><center>[{self.p4.deff}], [{self.p5.deff}], [{self.p6.deff}]</center></div>\"))\n",
    "        display(HTML(f\"<div class='translation'><center>[{self.adj3.deff}]  and [{self.adj4.deff}]</center></div>\"))\n",
    "        display(HTML(f\"<div class='translation'><center>[{self.topic2.deff}]</center></div>\"))\n",
    "        print()\n",
    "        if input(\"Do you want to save this poem?\").lower() in ('y', 'yes'):\n",
    "            save(self)"
   ]
  },
  {
   "cell_type": "code",
   "execution_count": 1,
   "id": "1557cb54-98a4-4473-a553-13954eacacaa",
   "metadata": {},
   "outputs": [
    {
     "ename": "NameError",
     "evalue": "name 'json' is not defined",
     "output_type": "error",
     "traceback": [
      "\u001b[0;31m---------------------------------------------------------------------------\u001b[0m",
      "\u001b[0;31mNameError\u001b[0m                                 Traceback (most recent call last)",
      "Cell \u001b[0;32mIn[1], line 1\u001b[0m\n\u001b[0;32m----> 1\u001b[0m \u001b[38;5;28;01mclass\u001b[39;00m \u001b[38;5;21;01mPoemEncoder\u001b[39;00m(\u001b[43mjson\u001b[49m\u001b[38;5;241m.\u001b[39mJSONEncoder):\n\u001b[1;32m      2\u001b[0m \u001b[38;5;250m    \u001b[39m\u001b[38;5;124;03m\"\"\" An encoder for Diamante poems (objects).\u001b[39;00m\n\u001b[1;32m      3\u001b[0m \u001b[38;5;124;03m    \"\"\"\u001b[39;00m\n\u001b[1;32m      4\u001b[0m     \u001b[38;5;28;01mdef\u001b[39;00m \u001b[38;5;21mdefault\u001b[39m(\u001b[38;5;28mself\u001b[39m, obj):\n",
      "\u001b[0;31mNameError\u001b[0m: name 'json' is not defined"
     ]
    }
   ],
   "source": [
    "class PoemEncoder(json.JSONEncoder):\n",
    "    \"\"\" An encoder for Diamante poems (objects).\n",
    "    \"\"\"\n",
    "    def default(self, obj):\n",
    "        \"\"\" Encode a Diamante poem.\n",
    "        \n",
    "        Arguments:\n",
    "            obj (Diamante): the poem to encode\n",
    "            \n",
    "        Returns:\n",
    "            dict: the Diamante object's attributes, as a dictionary\n",
    "            if obj is not a Diamante, return the default method of the parent class\n",
    "        \"\"\"\n",
    "        if isinstance(obj, DiamanteFinal):\n",
    "            return {'topics': (obj.topic1, obj.topic2),\n",
    "                    'adjectives': (obj.adj1, obj.adj2, obj.adj3, obj.adj4),\n",
    "                    'participles': (obj.p1, obj.p2, obj.p3, obj.p4, obj.p5, obj.p6),\n",
    "                    'phrase': (obj.phrase),\n",
    "                    'phrase definition': (obj.phrase_def)\n",
    "                    }\n",
    "        return json.JSONEncoder.default(self, obj)\n",
    "\n",
    "class FwordEncoder(json.JSONEncoder):\n",
    "    \"\"\" An encoder for Fword (objects).\n",
    "    \"\"\"\n",
    "    def default(self, obj):\n",
    "        \"\"\" Encode an Fword object.\n",
    "        \n",
    "        Arguments:\n",
    "            obj (Fword): the word to encode\n",
    "            \n",
    "        Returns:\n",
    "            dict: the Fword object's attributes, as a dictionary\n",
    "            if obj is not an Fword, return the default method of the parent class\n",
    "        \"\"\"\n",
    "        if isinstance(obj, Fword):\n",
    "            return {'name': obj.name,\n",
    "                    'form': obj.form,\n",
    "                    'part of speech': obj.pos,\n",
    "                    'definition': obj.deff\n",
    "                    }\n",
    "        return json.JSONEncoder.default(self, obj)\n",
    "\n",
    "def save(poem, path='goodPoem'):\n",
    "    with open(f'{path}.json', 'w', encoding='utf-8') as f:\n",
    "        newattrs = [json.dumps(word, indent=2, cls=FwordEncoder) for word in (poem.topic1, poem.topic2, poem.adj1, poem.adj2, poem.adj3, poem.adj4, poem.p1, poem.p2, poem.p3, poem.p4, poem.p5, poem.p6)]\n",
    "        #newattrs.append(poem.phrase, poem.phrase_def)\n",
    "        poem.topic1, poem.topic2, poem.adj1, poem.adj2, poem.adj3, poem.adj4, poem.p1, poem.p2, poem.p3, poem.p4, poem.p5, poem.p6 = newattrs\n",
    "        json.dump(poem, f, indent=2, cls=PoemEncoder)\n",
    "\n",
    "def loadFword(word):\n",
    "    #print(word)\n",
    "    #print(type(word))\n",
    "    return Fword(word['name'], word['form'], word['part of speech'], word['definition'])\n",
    "\n",
    "def load(path, *args, **kwargs):\n",
    "    with open(path, 'r', encoding='utf-8') as f:\n",
    "        poemInfo = json.load(f)\n",
    "    newPoem = DiamanteFinal(*args)\n",
    "    newTopics, newAdjs, newPs = [], [], []\n",
    "    newPoem.topic1, newPoem.topic2 = [loadFword(json.loads(topic)) for topic in poemInfo['topics']]\n",
    "    newPoem.adj1, newPoem.adj2, newPoem.adj3, newPoem.adj4 = [loadFword(json.loads(adj)) for adj in poemInfo['adjectives']]\n",
    "    newPoem.p1, newPoem.p2, newPoem.p3, newPoem.p4, newPoem.p5, newPoem.p6 = [loadFword(json.loads(p)) for p in poemInfo['participles']]\n",
    "    newPoem.phrase = poemInfo['phrase']\n",
    "    newPoem.phrase_def = poemInfo['phrase definition']\n",
    "    return newPoem"
   ]
  },
  {
   "cell_type": "code",
   "execution_count": 48,
   "id": "c109ecef-535d-49c6-9b92-bb71640934bf",
   "metadata": {},
   "outputs": [],
   "source": [
    "font_path = 'Canterbury.ttf'\n",
    "with open(font_path, 'rb') as font_file:\n",
    "    font_data = font_file.read()\n",
    "    encoded_font = base64.b64encode(font_data).decode('utf-8')"
   ]
  },
  {
   "cell_type": "code",
   "execution_count": 49,
   "id": "c647716d-942e-478d-b7e5-9f24f0e20eae",
   "metadata": {},
   "outputs": [],
   "source": [
    "mycss2 = f\"\"\"\n",
    "@font-face {{\n",
    "    font-family: 'Canterbury';\n",
    "    src: url(data:font/ttf;base64,{encoded_font}) format('truetype');\n",
    "}}\n",
    "\n",
    ".original_text {{\n",
    "    font-family: 'Canterbury', serif;\n",
    "    font-size: 24px;\n",
    "}}\n",
    "\n",
    ".translation {{\n",
    "    font-family: 'Garamond', serif;\n",
    "    font-size: 20px;\n",
    "}}\n",
    "\"\"\"\n"
   ]
  },
  {
   "cell_type": "code",
   "execution_count": 50,
   "id": "bfe8a58e-cf55-4c14-bf91-363a16d22210",
   "metadata": {},
   "outputs": [
    {
     "data": {
      "text/html": [
       "<style>\n",
       "@font-face {\n",
       "    font-family: 'Canterbury';\n",
       "    src: url(data:font/ttf;base64,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) format('truetype');\n",
       "}\n",
       "\n",
       ".original_text {\n",
       "    font-family: 'Canterbury', serif;\n",
       "    font-size: 24px;\n",
       "}\n",
       "\n",
       ".translation {\n",
       "    font-family: 'Garamond', serif;\n",
       "    font-size: 20px;\n",
       "}\n",
       "</style>"
      ],
      "text/plain": [
       "<IPython.core.display.HTML object>"
      ]
     },
     "metadata": {},
     "output_type": "display_data"
    }
   ],
   "source": [
    "display(HTML(f\"<style>{mycss2}</style>\"))"
   ]
  },
  {
   "cell_type": "code",
   "execution_count": 61,
   "id": "d40e4319-c8e6-4618-a2d5-dc7d7049c311",
   "metadata": {},
   "outputs": [],
   "source": [
    "workingPoem = DiamanteFinal(defined_words, nouns, adjectives, participles)"
   ]
  },
  {
   "cell_type": "code",
   "execution_count": 62,
   "id": "3a41c39c-a578-4af7-a319-9cc0c3ba99fd",
   "metadata": {
    "scrolled": true
   },
   "outputs": [
    {
     "name": "stdout",
     "output_type": "stream",
     "text": [
      "\n"
     ]
    },
    {
     "data": {
      "text/html": [
       "<div class='original_text'><center>sonde</center></div>"
      ],
      "text/plain": [
       "<IPython.core.display.HTML object>"
      ]
     },
     "metadata": {},
     "output_type": "display_data"
    },
    {
     "data": {
      "text/html": [
       "<div class='original_text'><center>shiten  and deef</center></div>"
      ],
      "text/plain": [
       "<IPython.core.display.HTML object>"
      ]
     },
     "metadata": {},
     "output_type": "display_data"
    },
    {
     "data": {
      "text/html": [
       "<div class='original_text'><center>floytynge, stryvyng, herknynge</center></div>"
      ],
      "text/plain": [
       "<IPython.core.display.HTML object>"
      ]
     },
     "metadata": {},
     "output_type": "display_data"
    },
    {
     "data": {
      "text/html": [
       "<div class='original_text'><center>corrumpable geldyng and embrouded pardoun</center></div>"
      ],
      "text/plain": [
       "<IPython.core.display.HTML object>"
      ]
     },
     "metadata": {},
     "output_type": "display_data"
    },
    {
     "data": {
      "text/html": [
       "<div class='original_text'><center>prikyng, conseillyng, fletynge</center></div>"
      ],
      "text/plain": [
       "<IPython.core.display.HTML object>"
      ]
     },
     "metadata": {},
     "output_type": "display_data"
    },
    {
     "data": {
      "text/html": [
       "<div class='original_text'><center>sobre  and blew</center></div>"
      ],
      "text/plain": [
       "<IPython.core.display.HTML object>"
      ]
     },
     "metadata": {},
     "output_type": "display_data"
    },
    {
     "data": {
      "text/html": [
       "<div class='original_text'><center>hewe</center></div>"
      ],
      "text/plain": [
       "<IPython.core.display.HTML object>"
      ]
     },
     "metadata": {},
     "output_type": "display_data"
    },
    {
     "name": "stdout",
     "output_type": "stream",
     "text": [
      "\n"
     ]
    },
    {
     "data": {
      "text/html": [
       "<div class='translation'><center>[ servant, messenger]</center></div>"
      ],
      "text/plain": [
       "<IPython.core.display.HTML object>"
      ]
     },
     "metadata": {},
     "output_type": "display_data"
    },
    {
     "data": {
      "text/html": [
       "<div class='translation'><center>[ dirty, defiled]  and [ deaf]</center></div>"
      ],
      "text/plain": [
       "<IPython.core.display.HTML object>"
      ]
     },
     "metadata": {},
     "output_type": "display_data"
    },
    {
     "data": {
      "text/html": [
       "<div class='translation'><center>[ whistling], [ strife, quarrelling], [ listening]</center></div>"
      ],
      "text/plain": [
       "<IPython.core.display.HTML object>"
      ]
     },
     "metadata": {},
     "output_type": "display_data"
    },
    {
     "data": {
      "text/html": [
       "<div class='translation'><center>[ corruptible] [ eunuch] and [ embroidered] [ 1. papal indulgences]</center></div>"
      ],
      "text/plain": [
       "<IPython.core.display.HTML object>"
      ]
     },
     "metadata": {},
     "output_type": "display_data"
    },
    {
     "data": {
      "text/html": [
       "<div class='translation'><center>[ tracking], [ advice], [ floating]</center></div>"
      ],
      "text/plain": [
       "<IPython.core.display.HTML object>"
      ]
     },
     "metadata": {},
     "output_type": "display_data"
    },
    {
     "data": {
      "text/html": [
       "<div class='translation'><center>[ serious, grave]  and [ blue ]</center></div>"
      ],
      "text/plain": [
       "<IPython.core.display.HTML object>"
      ]
     },
     "metadata": {},
     "output_type": "display_data"
    },
    {
     "data": {
      "text/html": [
       "<div class='translation'><center>[ hue, appearance]</center></div>"
      ],
      "text/plain": [
       "<IPython.core.display.HTML object>"
      ]
     },
     "metadata": {},
     "output_type": "display_data"
    },
    {
     "name": "stdout",
     "output_type": "stream",
     "text": [
      "\n"
     ]
    },
    {
     "name": "stdin",
     "output_type": "stream",
     "text": [
      "Do you want to save this poem? yes\n"
     ]
    }
   ],
   "source": [
    "workingPoem.makePoem()"
   ]
  },
  {
   "cell_type": "code",
   "execution_count": 63,
   "id": "6b1af732-c960-4d71-b44b-61085b561347",
   "metadata": {},
   "outputs": [],
   "source": [
    "loadTest = load('goodPoem.json', defined_words, nouns, adjectives, participles)"
   ]
  },
  {
   "cell_type": "code",
   "execution_count": 65,
   "id": "93d081cd-1a9e-40a8-88b4-27b33800d962",
   "metadata": {},
   "outputs": [
    {
     "name": "stdout",
     "output_type": "stream",
     "text": [
      "\n"
     ]
    },
    {
     "data": {
      "text/html": [
       "<div class='original_text'><center>sonde</center></div>"
      ],
      "text/plain": [
       "<IPython.core.display.HTML object>"
      ]
     },
     "metadata": {},
     "output_type": "display_data"
    },
    {
     "data": {
      "text/html": [
       "<div class='original_text'><center>shiten  and deef</center></div>"
      ],
      "text/plain": [
       "<IPython.core.display.HTML object>"
      ]
     },
     "metadata": {},
     "output_type": "display_data"
    },
    {
     "data": {
      "text/html": [
       "<div class='original_text'><center>floytynge, stryvyng, herknynge</center></div>"
      ],
      "text/plain": [
       "<IPython.core.display.HTML object>"
      ]
     },
     "metadata": {},
     "output_type": "display_data"
    },
    {
     "data": {
      "text/html": [
       "<div class='original_text'><center>corrumpable geldyng and embrouded pardoun</center></div>"
      ],
      "text/plain": [
       "<IPython.core.display.HTML object>"
      ]
     },
     "metadata": {},
     "output_type": "display_data"
    },
    {
     "data": {
      "text/html": [
       "<div class='original_text'><center>prikyng, conseillyng, fletynge</center></div>"
      ],
      "text/plain": [
       "<IPython.core.display.HTML object>"
      ]
     },
     "metadata": {},
     "output_type": "display_data"
    },
    {
     "data": {
      "text/html": [
       "<div class='original_text'><center>sobre  and blew</center></div>"
      ],
      "text/plain": [
       "<IPython.core.display.HTML object>"
      ]
     },
     "metadata": {},
     "output_type": "display_data"
    },
    {
     "data": {
      "text/html": [
       "<div class='original_text'><center>hewe</center></div>"
      ],
      "text/plain": [
       "<IPython.core.display.HTML object>"
      ]
     },
     "metadata": {},
     "output_type": "display_data"
    },
    {
     "name": "stdout",
     "output_type": "stream",
     "text": [
      "\n"
     ]
    },
    {
     "data": {
      "text/html": [
       "<div class='translation'><center>[ servant, messenger]</center></div>"
      ],
      "text/plain": [
       "<IPython.core.display.HTML object>"
      ]
     },
     "metadata": {},
     "output_type": "display_data"
    },
    {
     "data": {
      "text/html": [
       "<div class='translation'><center>[ dirty, defiled]  and [ deaf]</center></div>"
      ],
      "text/plain": [
       "<IPython.core.display.HTML object>"
      ]
     },
     "metadata": {},
     "output_type": "display_data"
    },
    {
     "data": {
      "text/html": [
       "<div class='translation'><center>[ whistling], [ strife, quarrelling], [ listening]</center></div>"
      ],
      "text/plain": [
       "<IPython.core.display.HTML object>"
      ]
     },
     "metadata": {},
     "output_type": "display_data"
    },
    {
     "data": {
      "text/html": [
       "<div class='translation'><center>[ corruptible] [ eunuch] and [ embroidered] [ 1. papal indulgences]</center></div>"
      ],
      "text/plain": [
       "<IPython.core.display.HTML object>"
      ]
     },
     "metadata": {},
     "output_type": "display_data"
    },
    {
     "data": {
      "text/html": [
       "<div class='translation'><center>[ tracking], [ advice], [ floating]</center></div>"
      ],
      "text/plain": [
       "<IPython.core.display.HTML object>"
      ]
     },
     "metadata": {},
     "output_type": "display_data"
    },
    {
     "data": {
      "text/html": [
       "<div class='translation'><center>[ serious, grave]  and [ blue ]</center></div>"
      ],
      "text/plain": [
       "<IPython.core.display.HTML object>"
      ]
     },
     "metadata": {},
     "output_type": "display_data"
    },
    {
     "data": {
      "text/html": [
       "<div class='translation'><center>[ hue, appearance]</center></div>"
      ],
      "text/plain": [
       "<IPython.core.display.HTML object>"
      ]
     },
     "metadata": {},
     "output_type": "display_data"
    },
    {
     "name": "stdout",
     "output_type": "stream",
     "text": [
      "\n"
     ]
    },
    {
     "name": "stdin",
     "output_type": "stream",
     "text": [
      "Do you want to save this poem? no\n"
     ]
    }
   ],
   "source": [
    "loadTest.makePoem()"
   ]
  }
 ],
 "metadata": {
  "kernelspec": {
   "display_name": "Python 3 (ipykernel)",
   "language": "python",
   "name": "python3"
  },
  "language_info": {
   "codemirror_mode": {
    "name": "ipython",
    "version": 3
   },
   "file_extension": ".py",
   "mimetype": "text/x-python",
   "name": "python",
   "nbconvert_exporter": "python",
   "pygments_lexer": "ipython3",
   "version": "3.10.12"
  }
 },
 "nbformat": 4,
 "nbformat_minor": 5
}
