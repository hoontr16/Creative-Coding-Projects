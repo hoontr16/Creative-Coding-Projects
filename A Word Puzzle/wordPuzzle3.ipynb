{
 "cells": [
  {
   "cell_type": "code",
   "execution_count": 8,
   "id": "24b4f2bf-72d8-4a56-aba5-a28d2ff98440",
   "metadata": {},
   "outputs": [],
   "source": [
    "from random import choice"
   ]
  },
  {
   "cell_type": "code",
   "execution_count": 1,
   "id": "56cbd793-08d3-4fbd-bf4a-d9ce5ef11535",
   "metadata": {},
   "outputs": [
    {
     "name": "stdout",
     "output_type": "stream",
     "text": [
      "!EXCLAMATION-POINT  EH2 K S K L AH0 M EY1 SH AH0 N P OY2 N T\n"
     ]
    }
   ],
   "source": [
    "with open('cmuDict.txt', 'r', encoding='utf-8') as f:\n",
    "    rawDict = f.read()\n",
    "\n",
    "cmu = rawDict.split('\\n')[56:]\n",
    "print(cmu[0])"
   ]
  },
  {
   "cell_type": "code",
   "execution_count": 2,
   "id": "5dda589a-d05f-49ac-9ca3-9f4d719dceda",
   "metadata": {
    "jupyter": {
     "source_hidden": true
    }
   },
   "outputs": [],
   "source": [
    "vowels = [    # General American English specifically\n",
    "    'AA',     # balm, bot\n",
    "    'AE',     # bat\n",
    "    'AH',     # butt\n",
    "    'AO',     # stOry      this gave me a heart attack when Wikipedia gave another example as 'cAUGHt' which is not at all the same sound to me\n",
    "    'AW',     # bout\n",
    "    'AX',     # commA (schwa)\n",
    "    'AY',     # bite\n",
    "    'EH',     # bet\n",
    "    'ER',     # bIRd, forewORd\n",
    "    'EY',     # bait\n",
    "    'IH',     # bit\n",
    "    'IX',     # rosEs, rabbIt\n",
    "    'IY',     # beat\n",
    "    'OW',     # boat\n",
    "    'OY',     # boy\n",
    "    'UH',     # book\n",
    "    'UW'      # boot\n",
    "]\n",
    "# source: https://en.wikipedia.org/wiki/ARPABET\n",
    "consonants = [\n",
    "    'B',      # buy\n",
    "    'CH',     # China\n",
    "    'D',      # die\n",
    "    'DH',     # thy\n",
    "    'DX',     # buTTer\n",
    "    'EL',     # bottLE\n",
    "    'EM',     # rhythM\n",
    "    'EN',     # buttON\n",
    "    'F',      # fight\n",
    "    'G',      # guy\n",
    "    'HH',     # High\n",
    "    'JH',     # jive\n",
    "    'K',      # kite\n",
    "    'L',      # lie\n",
    "    'M',      # my\n",
    "    'N',      # nigh\n",
    "    'NG',     # siNG\n",
    "    'P',      # pie\n",
    "    'Q',      # uh-oh (glottal stop)\n",
    "    'R',      # rye\n",
    "    'S',      # sigh\n",
    "    'SH',     # shy\n",
    "    'T',      # tie\n",
    "    'TH',     # thigh\n",
    "    'V',      # vie\n",
    "    'W',      # wise\n",
    "    'WH',     # why (for fancy people)\n",
    "    'Y',      # yacht\n",
    "    'Z',      # zoo\n",
    "    'ZH'      # pleaSure\n",
    "]"
   ]
  },
  {
   "cell_type": "code",
   "execution_count": 3,
   "id": "7af7e1b1-cf38-4afa-af21-57cd59e6d41b",
   "metadata": {},
   "outputs": [],
   "source": [
    "class coolWord:\n",
    "    def __init__(self, spelling, pronounciation):\n",
    "        symbols = \"~!@#$%^&*()-_=+[]{}\\\\|;:\\'\\\",<.>/?1234567890\"\n",
    "        self.word = spelling.strip(symbols).lower()\n",
    "        ps = pronounciation.split()\n",
    "        ps2 = [p.strip(symbols) for p in ps]\n",
    "        self.p = ' '.join(ps2)        \n",
    "        self.x = False\n",
    "        self.xx = False\n",
    "        self.xIndex = 0\n",
    "        if 'x' in self.word:\n",
    "            self.x = True\n",
    "            if 'xx' in self.word:\n",
    "                self.xx = True\n",
    "                self.s = self.word.replace('xx', 'ks')\n",
    "            else:\n",
    "                self.xIndex = self.word.index('x')\n",
    "                if self.xIndex == 0:\n",
    "                    self.s = self.word.replace('x', 'z')\n",
    "                elif self.xIndex == len(self.word) - 1 and ps2[-1] == 'OW':\n",
    "                    self.s = self.word.replace('x', '')\n",
    "                elif self.word[self.xIndex - 1] in 'aeiou' and self.xIndex != len(self.word) - 1 and self.word[self.xIndex + 1] in 'aeiou':\n",
    "                    self.s = self.word.replace('x', 'gz')\n",
    "                else:\n",
    "                    self.s = self.word.replace('x', 'ks')\n",
    "        else:\n",
    "            self.s = self.word\n",
    "    def __str__(self):\n",
    "        return self.word\n",
    "    def __repr__(self):\n",
    "        return self.word\n",
    "    def atomize(self, v, c):\n",
    "        current_letters = []\n",
    "        current_sounds = []\n",
    "        final = {}\n",
    "        vows = []\n",
    "        cons = []\n",
    "        letter_counter = 0\n",
    "        while letter_counter < len(self.s):\n",
    "            current_letter = letter_counter\n",
    "            while letter_counter < len(self.s) and self.s[letter_counter] in \"qwrtypsdfghjklzxcvbnm\":\n",
    "                current_letters.append(self.s[letter_counter])\n",
    "                letter_counter += 1\n",
    "            final[current_letter] = ''.join(current_letters)\n",
    "            current_letters = []\n",
    "            if letter_counter >= len(self.s):\n",
    "                break\n",
    "            current_letter = letter_counter\n",
    "            while letter_counter < len(self.s) and self.s[letter_counter] in \"aeiou\":\n",
    "                current_letters.append(self.s[letter_counter])\n",
    "                letter_counter += 1\n",
    "            final[current_letter] = ''.join(current_letters)\n",
    "            current_letters = []\n",
    "        self.c = cons\n",
    "        self.v = vows\n",
    "        self.f = final\n",
    "#        for i in self.p:\n",
    "#            if i in v:\n",
    "#                pass\n",
    "#            elif i in c:\n",
    "#                current_sounds.append(i)\n",
    "#                self.c[letter_counter].append(current_letters)\n",
    "#                letter_counter += 1\n",
    "#            else:\n",
    "#                print(\"weirdo ->\", i)"
   ]
  },
  {
   "cell_type": "code",
   "execution_count": 6,
   "id": "4c6c8895-8ed4-49cb-95c4-e6608de29565",
   "metadata": {},
   "outputs": [],
   "source": [
    "wordObjs2 = {line.split(maxsplit=1)[0]: coolWord(*line.split(maxsplit=1)) for line in cmu}"
   ]
  },
  {
   "cell_type": "code",
   "execution_count": 40,
   "id": "1911fbad-46da-4dda-bf48-3edbc6fff493",
   "metadata": {},
   "outputs": [],
   "source": [
    "def phoneReplace(word, wordDict, offset:int, testWord = None):\n",
    "    ans = []\n",
    "    if testWord != None:\n",
    "        wordDict = {0: testWord}\n",
    "    for i in wordDict:\n",
    "        w = wordDict[i]\n",
    "        ind = 0\n",
    "        mismatchCount = 0\n",
    "        if len(w.p.split()) == len(word.p.split()): \n",
    "            #print(w)\n",
    "            for sound in w.p.split():\n",
    "                #print(sound, word.p.split()[ind])\n",
    "                if sound != word.p.split()[ind]:\n",
    "                    #print('not a match')\n",
    "                    mismatchCount += 1\n",
    "                ind += 1\n",
    "            if mismatchCount == offset:\n",
    "                ans.append(w)\n",
    "            #break\n",
    "    try:\n",
    "        return choice(ans).s\n",
    "    except IndexError:\n",
    "        return word.s"
   ]
  },
  {
   "cell_type": "code",
   "execution_count": 11,
   "id": "bc8bed10-ba09-436b-a4eb-cefcbbd43051",
   "metadata": {},
   "outputs": [],
   "source": [
    "breath = wordObjs2['BREATH']"
   ]
  },
  {
   "cell_type": "code",
   "execution_count": 41,
   "id": "3f287391-d1d1-450b-afa4-aa573bbeb571",
   "metadata": {},
   "outputs": [
    {
     "data": {
      "text/plain": [
       "'bresse'"
      ]
     },
     "execution_count": 41,
     "metadata": {},
     "output_type": "execute_result"
    }
   ],
   "source": [
    "phoneReplace(breath, wordObjs2, 1)"
   ]
  },
  {
   "cell_type": "code",
   "execution_count": 42,
   "id": "660127ff-3b0a-4615-b035-2bd7e1a3e6f5",
   "metadata": {},
   "outputs": [],
   "source": [
    "def initText(path):\n",
    "    with open(path, 'r', encoding='utf-8') as f:\n",
    "        original = f.read()\n",
    "        return original"
   ]
  },
  {
   "cell_type": "code",
   "execution_count": 43,
   "id": "51649585-0674-4639-9f53-feb13d20fbb8",
   "metadata": {},
   "outputs": [],
   "source": [
    "rose = initText('sea_rose.txt')"
   ]
  },
  {
   "cell_type": "code",
   "execution_count": 44,
   "id": "e9fd88c1-153b-4fd1-b430-7438607609d2",
   "metadata": {},
   "outputs": [],
   "source": [
    "def replaceText(text, wordDict, offset:int):\n",
    "    lines = text.split('\\n')\n",
    "    replacedLines = []\n",
    "    for line in lines:\n",
    "        newLine = []\n",
    "        for word in line.split():\n",
    "            try:\n",
    "                newWord = phoneReplace(wordDict[word.strip(';:-!.? ,').upper()], wordDict, offset)\n",
    "                newLine.append(newWord)\n",
    "            except KeyError:\n",
    "                newLine.append(word)\n",
    "        replacedLines.append(' '.join(newLine))\n",
    "    return replacedLines"
   ]
  },
  {
   "cell_type": "code",
   "execution_count": 45,
   "id": "592698be-f25b-4a8f-8f09-2cd990434c06",
   "metadata": {},
   "outputs": [],
   "source": [
    "test = replaceText(rose, wordObjs2, 1)"
   ]
  },
  {
   "cell_type": "code",
   "execution_count": 47,
   "id": "b4a9d48a-b6ab-4865-89a8-6e72d49a3dec",
   "metadata": {},
   "outputs": [
    {
     "name": "stdout",
     "output_type": "stream",
     "text": [
      "rothe barsch roell\n",
      "barred earned winn swint up pedals\n",
      "meagre glower finn\n",
      "sparc oeuvre seif\n",
      "\n",
      "mosh preface\n",
      "yahn a goette ray's\n",
      "ringel en i stem—\n",
      "zhu ogg cop id du shrift\n",
      "\n",
      "stunted witch schmall liao\n",
      "zhu ayre fluff oanh ia sind\n",
      "rue ayr lifted\n",
      "aune though crissey fanned\n",
      "katt draves ich rugh weild\n",
      "\n",
      "dann to spice-rose\n",
      "drill dutch ackroyd fragrant\n",
      "pardoned him er leal\n"
     ]
    }
   ],
   "source": [
    "print('\\n'.join(test))"
   ]
  },
  {
   "cell_type": "code",
   "execution_count": 50,
   "id": "06e64955-f189-4e87-ad9c-1f58f7e237c0",
   "metadata": {},
   "outputs": [],
   "source": [
    "#with open('firstPoem.txt', 'w', encoding='utf-8') as f:\n",
    "#    f.write('\\n'.join(test))"
   ]
  },
  {
   "cell_type": "markdown",
   "id": "4c6cfa68-d007-48ad-bb6d-0fa4a773d243",
   "metadata": {},
   "source": [
    "Things to add/change for class project:\n",
    "<ul>\n",
    "    <li>make the resulting poem a 1-1 mapping: duplicate words in one poem map to the same word in the other</li>\n",
    "    <li>preserve puncuation</li>\n",
    "    <li>preserve capitalization</li>\n",
    "    <li>provide an answer to the puzzle</li>\n",
    "    <li>make a UI to play the puzzle through?</li>\n",
    "</ul>"
   ]
  },
  {
   "cell_type": "markdown",
   "id": "bcbef0d5-2f69-4346-81f6-fceceef58644",
   "metadata": {},
   "source": [
    "Long-term goals:\n",
    "<ul>\n",
    "    <li>keep everything from the above list except the first bullet</li>\n",
    "    <li>instead of the first bullet, figure out how to implement a phoneme-to-grapheme mapping, so it can output non-words too</li>\n",
    "    <ul>\n",
    "        <li>\n",
    "            although, some of those words from the test poem look pretty ridiculous, and some aren't even English -- it reads like my Middle English generator\n",
    "        </li>\n",
    "    </ul>\n",
    "</ul>"
   ]
  }
 ],
 "metadata": {
  "kernelspec": {
   "display_name": "Python 3 (ipykernel)",
   "language": "python",
   "name": "python3"
  },
  "language_info": {
   "codemirror_mode": {
    "name": "ipython",
    "version": 3
   },
   "file_extension": ".py",
   "mimetype": "text/x-python",
   "name": "python",
   "nbconvert_exporter": "python",
   "pygments_lexer": "ipython3",
   "version": "3.10.12"
  }
 },
 "nbformat": 4,
 "nbformat_minor": 5
}
