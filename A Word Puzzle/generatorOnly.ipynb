{
 "cells": [
  {
   "cell_type": "code",
   "execution_count": 1,
   "id": "2f1690fb-c191-4ee7-ad56-20e2415b93e5",
   "metadata": {},
   "outputs": [],
   "source": [
    "from random import choice"
   ]
  },
  {
   "cell_type": "code",
   "execution_count": 2,
   "id": "0c411786-c3dc-4fec-94e6-f65c27af3cec",
   "metadata": {},
   "outputs": [
    {
     "name": "stdout",
     "output_type": "stream",
     "text": [
      "!EXCLAMATION-POINT  EH2 K S K L AH0 M EY1 SH AH0 N P OY2 N T\n"
     ]
    }
   ],
   "source": [
    "with open('cmuDict.txt', 'r', encoding='utf-8') as f:\n",
    "    rawDict = f.read()\n",
    "\n",
    "cmu = rawDict.split('\\n')[56:]\n",
    "print(cmu[0])"
   ]
  },
  {
   "cell_type": "code",
   "execution_count": 3,
   "id": "62da412c-44dc-443f-ba6a-356470d8836a",
   "metadata": {
    "jupyter": {
     "source_hidden": true
    }
   },
   "outputs": [],
   "source": [
    "class coolWord:\n",
    "    def __init__(self, spelling, pronounciation):\n",
    "        symbols = \"~!@#$%^&*()-_=+[]{}\\\\|;:\\'\\\",<.>/?1234567890\"\n",
    "        self.word = spelling.strip(symbols).lower()\n",
    "        ps = pronounciation.split()\n",
    "        ps2 = [p.strip(symbols) for p in ps]\n",
    "        self.p = ' '.join(ps2)        \n",
    "        self.x = False\n",
    "        self.xx = False\n",
    "        self.xIndex = 0\n",
    "        if 'x' in self.word:\n",
    "            self.x = True\n",
    "            if 'xx' in self.word:\n",
    "                self.xx = True\n",
    "                self.s = self.word.replace('xx', 'ks')\n",
    "            else:\n",
    "                self.xIndex = self.word.index('x')\n",
    "                if self.xIndex == 0:\n",
    "                    self.s = self.word.replace('x', 'z')\n",
    "                elif self.xIndex == len(self.word) - 1 and ps2[-1] == 'OW':\n",
    "                    self.s = self.word.replace('x', '')\n",
    "                elif self.word[self.xIndex - 1] in 'aeiou' and self.xIndex != len(self.word) - 1 and self.word[self.xIndex + 1] in 'aeiou':\n",
    "                    self.s = self.word.replace('x', 'gz')\n",
    "                else:\n",
    "                    self.s = self.word.replace('x', 'ks')\n",
    "        else:\n",
    "            self.s = self.word\n",
    "    def __str__(self):\n",
    "        return self.word\n",
    "    def __repr__(self):\n",
    "        return self.word\n",
    "    def atomize(self, v, c):\n",
    "        current_letters = []\n",
    "        current_sounds = []\n",
    "        final = {}\n",
    "        vows = []\n",
    "        cons = []\n",
    "        letter_counter = 0\n",
    "        while letter_counter < len(self.s):\n",
    "            current_letter = letter_counter\n",
    "            while letter_counter < len(self.s) and self.s[letter_counter] in \"qwrtypsdfghjklzxcvbnm\":\n",
    "                current_letters.append(self.s[letter_counter])\n",
    "                letter_counter += 1\n",
    "            final[current_letter] = ''.join(current_letters)\n",
    "            current_letters = []\n",
    "            if letter_counter >= len(self.s):\n",
    "                break\n",
    "            current_letter = letter_counter\n",
    "            while letter_counter < len(self.s) and self.s[letter_counter] in \"aeiou\":\n",
    "                current_letters.append(self.s[letter_counter])\n",
    "                letter_counter += 1\n",
    "            final[current_letter] = ''.join(current_letters)\n",
    "            current_letters = []\n",
    "        self.c = cons\n",
    "        self.v = vows\n",
    "        self.f = final\n",
    "#        for i in self.p:\n",
    "#            if i in v:\n",
    "#                pass\n",
    "#            elif i in c:\n",
    "#                current_sounds.append(i)\n",
    "#                self.c[letter_counter].append(current_letters)\n",
    "#                letter_counter += 1\n",
    "#            else:\n",
    "#                print(\"weirdo ->\", i)"
   ]
  },
  {
   "cell_type": "code",
   "execution_count": 4,
   "id": "c6175d08-d4d9-46bf-b7bd-4f983745bbe9",
   "metadata": {},
   "outputs": [],
   "source": [
    "wordObjs2 = {line.split(maxsplit=1)[0]: coolWord(*line.split(maxsplit=1)) for line in cmu}"
   ]
  },
  {
   "cell_type": "code",
   "execution_count": 5,
   "id": "1ff9d608-a428-4518-a6e4-491ab9797dfa",
   "metadata": {},
   "outputs": [],
   "source": [
    "def phoneReplace(word, wordDict, offset:int, testWord = None):\n",
    "    ans = []\n",
    "    if testWord != None:\n",
    "        wordDict = {0: testWord}\n",
    "    for i in wordDict:\n",
    "        w = wordDict[i]\n",
    "        ind = 0\n",
    "        mismatchCount = 0\n",
    "        if len(w.p.split()) == len(word.p.split()): \n",
    "            #print(w)\n",
    "            for sound in w.p.split():\n",
    "                #print(sound, word.p.split()[ind])\n",
    "                if sound != word.p.split()[ind]:\n",
    "                    #print('not a match')\n",
    "                    mismatchCount += 1\n",
    "                ind += 1\n",
    "            if mismatchCount == offset:\n",
    "                ans.append(w)\n",
    "            #break\n",
    "    try:\n",
    "        return choice(ans).s\n",
    "    except IndexError:\n",
    "        return word.s"
   ]
  },
  {
   "cell_type": "code",
   "execution_count": 6,
   "id": "09cef4d0-e94f-4dfa-9e45-df746d0a08f2",
   "metadata": {},
   "outputs": [],
   "source": [
    "def initText(path):\n",
    "    with open(path, 'r', encoding='utf-8') as f:\n",
    "        original = f.read()\n",
    "        return original"
   ]
  },
  {
   "cell_type": "code",
   "execution_count": 7,
   "id": "c1ebdedc-8713-4924-81aa-582ea3ee3840",
   "metadata": {},
   "outputs": [],
   "source": [
    "rose = initText('sea_rose.txt')"
   ]
  },
  {
   "cell_type": "markdown",
   "id": "7924f6e5-4221-4bf5-a412-f35f0ed947de",
   "metadata": {},
   "source": [
    "^^^ Change the file name in the above cell to use a custom base text (that's in this directory) ^^^"
   ]
  },
  {
   "cell_type": "code",
   "execution_count": 8,
   "id": "4ef3eda1-77fc-45af-a58a-e3a27cf18b1e",
   "metadata": {},
   "outputs": [],
   "source": [
    "def replaceText(text, wordDict, offset:int):\n",
    "    lines = text.split('\\n')\n",
    "    replacedLines = []\n",
    "    for line in lines:\n",
    "        newLine = []\n",
    "        for word in line.split():\n",
    "            try:\n",
    "                newWord = phoneReplace(wordDict[word.strip(';:-!.? ,').upper()], wordDict, offset)\n",
    "                newLine.append(newWord)\n",
    "            except KeyError:\n",
    "                newLine.append(word)\n",
    "        replacedLines.append(' '.join(newLine))\n",
    "    return replacedLines"
   ]
  },
  {
   "cell_type": "code",
   "execution_count": 14,
   "id": "a9de612a-166f-46a5-beaf-31f4be028049",
   "metadata": {},
   "outputs": [],
   "source": [
    "test = replaceText(rose, wordObjs2, 1)"
   ]
  },
  {
   "cell_type": "code",
   "execution_count": 15,
   "id": "058f30e4-5075-4f93-861c-696222f82ae1",
   "metadata": {},
   "outputs": [
    {
     "name": "stdout",
     "output_type": "stream",
     "text": [
      "roesch hart roher\n",
      "charred ende wick stiffed un pebbles\n",
      "meagre flout oyen\n",
      "sparc uthe leese\n",
      "\n",
      "mos preface\n",
      "rahn a wayt ries\n",
      "dingell ein a stem—\n",
      "pu odd kote on they shrift\n",
      "\n",
      "stunted we're schmall leece\n",
      "moue orr flood opp they sound\n",
      "ku ear listed\n",
      "ane rugh chrissie signed\n",
      "jagt droves n ia wound\n",
      "\n",
      "koehn thur spice-rose\n",
      "drupe suss agzid fragrant\n",
      "harland erne awe liem\n"
     ]
    }
   ],
   "source": [
    "print('\\n'.join(test))"
   ]
  },
  {
   "cell_type": "code",
   "execution_count": 13,
   "id": "b340027d-09bd-4b66-ae98-d6192d9acda8",
   "metadata": {},
   "outputs": [],
   "source": [
    "#with open('firstPoem.txt', 'w', encoding='utf-8') as f:\n",
    "#    f.write('\\n'.join(test))"
   ]
  },
  {
   "cell_type": "markdown",
   "id": "fc332d3f-6d27-428d-9ecf-01112e0f8173",
   "metadata": {},
   "source": [
    "^^^ The above cell will save the output to a file when uncommented ^^^"
   ]
  }
 ],
 "metadata": {
  "kernelspec": {
   "display_name": "Python 3 (ipykernel)",
   "language": "python",
   "name": "python3"
  },
  "language_info": {
   "codemirror_mode": {
    "name": "ipython",
    "version": 3
   },
   "file_extension": ".py",
   "mimetype": "text/x-python",
   "name": "python",
   "nbconvert_exporter": "python",
   "pygments_lexer": "ipython3",
   "version": "3.10.12"
  }
 },
 "nbformat": 4,
 "nbformat_minor": 5
}
